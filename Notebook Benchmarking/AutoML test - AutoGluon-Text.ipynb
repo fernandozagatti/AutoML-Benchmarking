{
 "cells": [
  {
   "cell_type": "code",
   "execution_count": 1,
   "id": "753b0cd6",
   "metadata": {
    "scrolled": true
   },
   "outputs": [
    {
     "name": "stdout",
     "output_type": "stream",
     "text": [
      "Requirement already satisfied: tpot in /home/fernando/anaconda3/lib/python3.10/site-packages (0.12.1)\n",
      "Requirement already satisfied: numpy>=1.16.3 in /home/fernando/anaconda3/lib/python3.10/site-packages (from tpot) (1.23.5)\n",
      "Requirement already satisfied: xgboost>=1.1.0 in /home/fernando/anaconda3/lib/python3.10/site-packages (from tpot) (1.7.6)\n",
      "Requirement already satisfied: update-checker>=0.16 in /home/fernando/anaconda3/lib/python3.10/site-packages (from tpot) (0.18.0)\n",
      "Requirement already satisfied: scipy>=1.3.1 in /home/fernando/anaconda3/lib/python3.10/site-packages (from tpot) (1.8.1)\n",
      "Requirement already satisfied: joblib>=0.13.2 in /home/fernando/anaconda3/lib/python3.10/site-packages (from tpot) (1.2.0)\n",
      "Requirement already satisfied: pandas>=0.24.2 in /home/fernando/anaconda3/lib/python3.10/site-packages (from tpot) (1.5.3)\n",
      "Requirement already satisfied: tqdm>=4.36.1 in /home/fernando/anaconda3/lib/python3.10/site-packages (from tpot) (4.65.2)\n",
      "Requirement already satisfied: deap>=1.2 in /home/fernando/anaconda3/lib/python3.10/site-packages (from tpot) (1.4.1)\n",
      "Requirement already satisfied: scikit-learn>=0.22.0 in /home/fernando/anaconda3/lib/python3.10/site-packages (from tpot) (0.24.2)\n",
      "Requirement already satisfied: stopit>=1.1.1 in /home/fernando/anaconda3/lib/python3.10/site-packages (from tpot) (1.1.2)\n",
      "Requirement already satisfied: python-dateutil>=2.8.1 in /home/fernando/anaconda3/lib/python3.10/site-packages (from pandas>=0.24.2->tpot) (2.8.2)\n",
      "Requirement already satisfied: pytz>=2020.1 in /home/fernando/anaconda3/lib/python3.10/site-packages (from pandas>=0.24.2->tpot) (2023.3.post1)\n",
      "Requirement already satisfied: threadpoolctl>=2.0.0 in /home/fernando/anaconda3/lib/python3.10/site-packages (from scikit-learn>=0.22.0->tpot) (2.2.0)\n",
      "Requirement already satisfied: requests>=2.3.0 in /home/fernando/anaconda3/lib/python3.10/site-packages (from update-checker>=0.16->tpot) (2.28.2)\n",
      "Requirement already satisfied: six>=1.5 in /home/fernando/anaconda3/lib/python3.10/site-packages (from python-dateutil>=2.8.1->pandas>=0.24.2->tpot) (1.16.0)\n",
      "Requirement already satisfied: idna<4,>=2.5 in /home/fernando/anaconda3/lib/python3.10/site-packages (from requests>=2.3.0->update-checker>=0.16->tpot) (3.4)\n",
      "Requirement already satisfied: certifi>=2017.4.17 in /home/fernando/anaconda3/lib/python3.10/site-packages (from requests>=2.3.0->update-checker>=0.16->tpot) (2022.12.7)\n",
      "Requirement already satisfied: urllib3<1.27,>=1.21.1 in /home/fernando/anaconda3/lib/python3.10/site-packages (from requests>=2.3.0->update-checker>=0.16->tpot) (1.26.14)\n",
      "Requirement already satisfied: charset-normalizer<4,>=2 in /home/fernando/anaconda3/lib/python3.10/site-packages (from requests>=2.3.0->update-checker>=0.16->tpot) (2.0.4)\n",
      "Note: you may need to restart the kernel to use updated packages.\n",
      "Requirement already satisfied: autogluon in /home/fernando/anaconda3/lib/python3.10/site-packages (0.8.2)\n",
      "Collecting autogluon.features==0.8.2\n",
      "  Using cached autogluon.features-0.8.2-py3-none-any.whl (62 kB)\n",
      "Requirement already satisfied: autogluon.tabular[all]==0.8.2 in /home/fernando/anaconda3/lib/python3.10/site-packages (from autogluon) (0.8.2)\n",
      "Collecting autogluon.multimodal==0.8.2\n",
      "  Using cached autogluon.multimodal-0.8.2-py3-none-any.whl (372 kB)\n",
      "Collecting autogluon.core[all]==0.8.2\n",
      "  Using cached autogluon.core-0.8.2-py3-none-any.whl (224 kB)\n",
      "Requirement already satisfied: autogluon.timeseries[all]==0.8.2 in /home/fernando/anaconda3/lib/python3.10/site-packages (from autogluon) (0.8.2)\n",
      "Collecting networkx<4,>=3.0\n",
      "  Using cached networkx-3.2.1-py3-none-any.whl (1.6 MB)\n",
      "Requirement already satisfied: boto3<2,>=1.10 in /home/fernando/anaconda3/lib/python3.10/site-packages (from autogluon.core[all]==0.8.2->autogluon) (1.26.83)\n",
      "Requirement already satisfied: tqdm<5,>=4.38 in /home/fernando/anaconda3/lib/python3.10/site-packages (from autogluon.core[all]==0.8.2->autogluon) (4.65.2)\n",
      "Requirement already satisfied: numpy<1.27,>=1.21 in /home/fernando/anaconda3/lib/python3.10/site-packages (from autogluon.core[all]==0.8.2->autogluon) (1.23.5)\n",
      "Collecting autogluon.common==0.8.2\n",
      "  Using cached autogluon.common-0.8.2-py3-none-any.whl (61 kB)\n",
      "Collecting scikit-learn<1.3,>=1.0\n",
      "  Using cached scikit_learn-1.2.2-cp310-cp310-manylinux_2_17_x86_64.manylinux2014_x86_64.whl (9.6 MB)\n",
      "Requirement already satisfied: scipy<1.12,>=1.5.4 in /home/fernando/anaconda3/lib/python3.10/site-packages (from autogluon.core[all]==0.8.2->autogluon) (1.8.1)\n",
      "Requirement already satisfied: requests in /home/fernando/anaconda3/lib/python3.10/site-packages (from autogluon.core[all]==0.8.2->autogluon) (2.28.2)\n",
      "Requirement already satisfied: pandas<1.6,>=1.4.1 in /home/fernando/anaconda3/lib/python3.10/site-packages (from autogluon.core[all]==0.8.2->autogluon) (1.5.3)\n",
      "Requirement already satisfied: matplotlib in /home/fernando/anaconda3/lib/python3.10/site-packages (from autogluon.core[all]==0.8.2->autogluon) (3.7.0)\n",
      "Collecting ray[tune]<2.4,>=2.3\n",
      "  Using cached ray-2.3.1-cp310-cp310-manylinux2014_x86_64.whl (58.5 MB)\n",
      "Requirement already satisfied: pydantic<2.0,>=1.10.4 in /home/fernando/anaconda3/lib/python3.10/site-packages (from autogluon.core[all]==0.8.2->autogluon) (1.10.8)\n",
      "Requirement already satisfied: grpcio<=1.50.0,>=1.42.0 in /home/fernando/anaconda3/lib/python3.10/site-packages (from autogluon.core[all]==0.8.2->autogluon) (1.50.0)\n",
      "Requirement already satisfied: hyperopt<0.2.8,>=0.2.7 in /home/fernando/anaconda3/lib/python3.10/site-packages (from autogluon.core[all]==0.8.2->autogluon) (0.2.7)\n",
      "Collecting jsonschema<4.18,>=4.14\n",
      "  Using cached jsonschema-4.17.3-py3-none-any.whl (90 kB)\n",
      "Collecting torchmetrics<0.12.0,>=0.11.0\n",
      "  Using cached torchmetrics-0.11.4-py3-none-any.whl (519 kB)\n",
      "Requirement already satisfied: omegaconf<2.3.0,>=2.1.1 in /home/fernando/anaconda3/lib/python3.10/site-packages (from autogluon.multimodal==0.8.2->autogluon) (2.1.2)\n",
      "Requirement already satisfied: torch<1.14,>=1.9 in /home/fernando/anaconda3/lib/python3.10/site-packages (from autogluon.multimodal==0.8.2->autogluon) (1.13.1)\n",
      "Requirement already satisfied: Pillow<9.6,>=9.3 in /home/fernando/anaconda3/lib/python3.10/site-packages (from autogluon.multimodal==0.8.2->autogluon) (9.4.0)\n",
      "Requirement already satisfied: seqeval<1.3.0,>=1.2.2 in /home/fernando/anaconda3/lib/python3.10/site-packages (from autogluon.multimodal==0.8.2->autogluon) (1.2.2)\n",
      "Requirement already satisfied: tensorboard<3,>=2.9 in /home/fernando/anaconda3/lib/python3.10/site-packages (from autogluon.multimodal==0.8.2->autogluon) (2.15.0)\n",
      "Requirement already satisfied: nltk<4.0.0,>=3.4.5 in /home/fernando/anaconda3/lib/python3.10/site-packages (from autogluon.multimodal==0.8.2->autogluon) (3.7)\n",
      "Requirement already satisfied: transformers[sentencepiece]<4.27.0,>=4.23.0 in /home/fernando/anaconda3/lib/python3.10/site-packages (from autogluon.multimodal==0.8.2->autogluon) (4.25.1)\n",
      "Requirement already satisfied: scikit-image<0.20.0,>=0.19.1 in /home/fernando/anaconda3/lib/python3.10/site-packages (from autogluon.multimodal==0.8.2->autogluon) (0.19.3)\n",
      "Requirement already satisfied: jinja2<3.2,>=3.0.3 in /home/fernando/anaconda3/lib/python3.10/site-packages (from autogluon.multimodal==0.8.2->autogluon) (3.1.2)\n",
      "Requirement already satisfied: pytorch-lightning<1.10.0,>=1.9.0 in /home/fernando/anaconda3/lib/python3.10/site-packages (from autogluon.multimodal==0.8.2->autogluon) (1.9.5)\n",
      "Requirement already satisfied: pytorch-metric-learning<2.0,>=1.3.0 in /home/fernando/anaconda3/lib/python3.10/site-packages (from autogluon.multimodal==0.8.2->autogluon) (1.3.2)\n",
      "Collecting timm<0.10.0,>=0.9.2\n",
      "  Downloading timm-0.9.11-py3-none-any.whl (2.2 MB)\n",
      "\u001b[2K     \u001b[38;2;114;156;31m━━━━━━━━━━━━━━━━━━━━━━━━━━━━━━━━━━━━━━━━\u001b[0m \u001b[32m2.2/2.2 MB\u001b[0m \u001b[31m10.1 MB/s\u001b[0m eta \u001b[36m0:00:00\u001b[0mm eta \u001b[36m0:00:01\u001b[0m0:01\u001b[0m01\u001b[0m\n",
      "\u001b[?25hRequirement already satisfied: pytesseract<0.3.11,>=0.3.9 in /home/fernando/anaconda3/lib/python3.10/site-packages (from autogluon.multimodal==0.8.2->autogluon) (0.3.10)\n",
      "Collecting openmim<0.4.0,>=0.3.7\n",
      "  Using cached openmim-0.3.9-py2.py3-none-any.whl (52 kB)\n",
      "Requirement already satisfied: defusedxml<0.7.2,>=0.7.1 in /home/fernando/anaconda3/lib/python3.10/site-packages (from autogluon.multimodal==0.8.2->autogluon) (0.7.1)\n",
      "Requirement already satisfied: nlpaug<1.2.0,>=1.1.10 in /home/fernando/anaconda3/lib/python3.10/site-packages (from autogluon.multimodal==0.8.2->autogluon) (1.1.10)\n",
      "Requirement already satisfied: accelerate<0.17,>=0.9 in /home/fernando/anaconda3/lib/python3.10/site-packages (from autogluon.multimodal==0.8.2->autogluon) (0.15.0)\n",
      "Requirement already satisfied: torchvision<0.15.0 in /home/fernando/anaconda3/lib/python3.10/site-packages (from autogluon.multimodal==0.8.2->autogluon) (0.14.1)\n",
      "Requirement already satisfied: evaluate<0.4.0,>=0.2.2 in /home/fernando/anaconda3/lib/python3.10/site-packages (from autogluon.multimodal==0.8.2->autogluon) (0.3.0)\n",
      "Requirement already satisfied: nptyping<2.5.0,>=1.4.4 in /home/fernando/anaconda3/lib/python3.10/site-packages (from autogluon.multimodal==0.8.2->autogluon) (1.4.4)\n",
      "Requirement already satisfied: text-unidecode<1.4,>=1.3 in /home/fernando/anaconda3/lib/python3.10/site-packages (from autogluon.multimodal==0.8.2->autogluon) (1.3)\n"
     ]
    },
    {
     "name": "stdout",
     "output_type": "stream",
     "text": [
      "Requirement already satisfied: fastai<2.8,>=2.3.1 in /home/fernando/anaconda3/lib/python3.10/site-packages (from autogluon.tabular[all]==0.8.2->autogluon) (2.7.13)\n",
      "Requirement already satisfied: lightgbm<3.4,>=3.3 in /home/fernando/anaconda3/lib/python3.10/site-packages (from autogluon.tabular[all]==0.8.2->autogluon) (3.3.5)\n",
      "Requirement already satisfied: catboost<1.3,>=1.1 in /home/fernando/anaconda3/lib/python3.10/site-packages (from autogluon.tabular[all]==0.8.2->autogluon) (1.2.2)\n",
      "Requirement already satisfied: xgboost<1.8,>=1.6 in /home/fernando/anaconda3/lib/python3.10/site-packages (from autogluon.tabular[all]==0.8.2->autogluon) (1.7.6)\n",
      "Requirement already satisfied: statsmodels<0.15,>=0.13.0 in /home/fernando/anaconda3/lib/python3.10/site-packages (from autogluon.timeseries[all]==0.8.2->autogluon) (0.13.5)\n",
      "Requirement already satisfied: statsforecast<1.5,>=1.4.0 in /home/fernando/anaconda3/lib/python3.10/site-packages (from autogluon.timeseries[all]==0.8.2->autogluon) (1.4.0)\n",
      "Requirement already satisfied: mlforecast<0.7.4,>=0.7.0 in /home/fernando/anaconda3/lib/python3.10/site-packages (from autogluon.timeseries[all]==0.8.2->autogluon) (0.7.3)\n",
      "Requirement already satisfied: gluonts<0.14,>=0.13.1 in /home/fernando/anaconda3/lib/python3.10/site-packages (from autogluon.timeseries[all]==0.8.2->autogluon) (0.13.7)\n",
      "Requirement already satisfied: joblib<2,>=1.1 in /home/fernando/anaconda3/lib/python3.10/site-packages (from autogluon.timeseries[all]==0.8.2->autogluon) (1.2.0)\n",
      "Requirement already satisfied: ujson<6,>=5 in /home/fernando/anaconda3/lib/python3.10/site-packages (from autogluon.timeseries[all]==0.8.2->autogluon) (5.4.0)\n",
      "Requirement already satisfied: setuptools in /home/fernando/anaconda3/lib/python3.10/site-packages (from autogluon.common==0.8.2->autogluon.core[all]==0.8.2->autogluon) (60.2.0)\n",
      "Requirement already satisfied: psutil<6,>=5.7.3 in /home/fernando/anaconda3/lib/python3.10/site-packages (from autogluon.common==0.8.2->autogluon.core[all]==0.8.2->autogluon) (5.9.0)\n",
      "Requirement already satisfied: pyyaml in /home/fernando/anaconda3/lib/python3.10/site-packages (from accelerate<0.17,>=0.9->autogluon.multimodal==0.8.2->autogluon) (6.0)\n",
      "Requirement already satisfied: packaging>=20.0 in /home/fernando/anaconda3/lib/python3.10/site-packages (from accelerate<0.17,>=0.9->autogluon.multimodal==0.8.2->autogluon) (22.0)\n",
      "Requirement already satisfied: botocore<1.30.0,>=1.29.83 in /home/fernando/anaconda3/lib/python3.10/site-packages (from boto3<2,>=1.10->autogluon.core[all]==0.8.2->autogluon) (1.29.165)\n",
      "Requirement already satisfied: jmespath<2.0.0,>=0.7.1 in /home/fernando/anaconda3/lib/python3.10/site-packages (from boto3<2,>=1.10->autogluon.core[all]==0.8.2->autogluon) (0.10.0)\n",
      "Requirement already satisfied: s3transfer<0.7.0,>=0.6.0 in /home/fernando/anaconda3/lib/python3.10/site-packages (from boto3<2,>=1.10->autogluon.core[all]==0.8.2->autogluon) (0.6.2)\n",
      "Requirement already satisfied: graphviz in /home/fernando/anaconda3/lib/python3.10/site-packages (from catboost<1.3,>=1.1->autogluon.tabular[all]==0.8.2->autogluon) (0.20.1)\n",
      "Requirement already satisfied: six in /home/fernando/anaconda3/lib/python3.10/site-packages (from catboost<1.3,>=1.1->autogluon.tabular[all]==0.8.2->autogluon) (1.16.0)\n",
      "Requirement already satisfied: plotly in /home/fernando/anaconda3/lib/python3.10/site-packages (from catboost<1.3,>=1.1->autogluon.tabular[all]==0.8.2->autogluon) (5.9.0)\n",
      "Requirement already satisfied: dill in /home/fernando/anaconda3/lib/python3.10/site-packages (from evaluate<0.4.0,>=0.2.2->autogluon.multimodal==0.8.2->autogluon) (0.3.7)\n",
      "Requirement already satisfied: xxhash in /home/fernando/anaconda3/lib/python3.10/site-packages (from evaluate<0.4.0,>=0.2.2->autogluon.multimodal==0.8.2->autogluon) (3.4.1)\n",
      "Requirement already satisfied: responses<0.19 in /home/fernando/anaconda3/lib/python3.10/site-packages (from evaluate<0.4.0,>=0.2.2->autogluon.multimodal==0.8.2->autogluon) (0.18.0)\n",
      "Requirement already satisfied: multiprocess in /home/fernando/anaconda3/lib/python3.10/site-packages (from evaluate<0.4.0,>=0.2.2->autogluon.multimodal==0.8.2->autogluon) (0.70.15)\n",
      "Requirement already satisfied: datasets>=2.0.0 in /home/fernando/anaconda3/lib/python3.10/site-packages (from evaluate<0.4.0,>=0.2.2->autogluon.multimodal==0.8.2->autogluon) (2.14.6)\n",
      "Requirement already satisfied: fsspec[http]>=2021.05.0 in /home/fernando/anaconda3/lib/python3.10/site-packages (from evaluate<0.4.0,>=0.2.2->autogluon.multimodal==0.8.2->autogluon) (2023.10.0)\n",
      "Requirement already satisfied: huggingface-hub>=0.7.0 in /home/fernando/anaconda3/lib/python3.10/site-packages (from evaluate<0.4.0,>=0.2.2->autogluon.multimodal==0.8.2->autogluon) (0.17.3)\n",
      "Requirement already satisfied: fastprogress>=0.2.4 in /home/fernando/anaconda3/lib/python3.10/site-packages (from fastai<2.8,>=2.3.1->autogluon.tabular[all]==0.8.2->autogluon) (1.0.3)\n",
      "Requirement already satisfied: fastdownload<2,>=0.0.5 in /home/fernando/anaconda3/lib/python3.10/site-packages (from fastai<2.8,>=2.3.1->autogluon.tabular[all]==0.8.2->autogluon) (0.0.7)\n",
      "Requirement already satisfied: pip in /home/fernando/anaconda3/lib/python3.10/site-packages (from fastai<2.8,>=2.3.1->autogluon.tabular[all]==0.8.2->autogluon) (22.3.1)\n",
      "Requirement already satisfied: spacy<4 in /home/fernando/anaconda3/lib/python3.10/site-packages (from fastai<2.8,>=2.3.1->autogluon.tabular[all]==0.8.2->autogluon) (3.5.3)\n",
      "Requirement already satisfied: fastcore<1.6,>=1.5.29 in /home/fernando/anaconda3/lib/python3.10/site-packages (from fastai<2.8,>=2.3.1->autogluon.tabular[all]==0.8.2->autogluon) (1.5.29)\n",
      "Requirement already satisfied: typing-extensions~=4.0 in /home/fernando/anaconda3/lib/python3.10/site-packages (from gluonts<0.14,>=0.13.1->autogluon.timeseries[all]==0.8.2->autogluon) (4.4.0)\n",
      "Requirement already satisfied: toolz~=0.10 in /home/fernando/anaconda3/lib/python3.10/site-packages (from gluonts<0.14,>=0.13.1->autogluon.timeseries[all]==0.8.2->autogluon) (0.12.0)\n",
      "Requirement already satisfied: future in /home/fernando/anaconda3/lib/python3.10/site-packages (from hyperopt<0.2.8,>=0.2.7->autogluon.core[all]==0.8.2->autogluon) (0.18.3)\n",
      "Requirement already satisfied: py4j in /home/fernando/anaconda3/lib/python3.10/site-packages (from hyperopt<0.2.8,>=0.2.7->autogluon.core[all]==0.8.2->autogluon) (0.10.9.7)\n",
      "Requirement already satisfied: cloudpickle in /home/fernando/anaconda3/lib/python3.10/site-packages (from hyperopt<0.2.8,>=0.2.7->autogluon.core[all]==0.8.2->autogluon) (2.0.0)\n",
      "Requirement already satisfied: MarkupSafe>=2.0 in /home/fernando/anaconda3/lib/python3.10/site-packages (from jinja2<3.2,>=3.0.3->autogluon.multimodal==0.8.2->autogluon) (2.1.1)\n",
      "Requirement already satisfied: pyrsistent!=0.17.0,!=0.17.1,!=0.17.2,>=0.14.0 in /home/fernando/anaconda3/lib/python3.10/site-packages (from jsonschema<4.18,>=4.14->autogluon.multimodal==0.8.2->autogluon) (0.18.0)\n",
      "Requirement already satisfied: attrs>=17.4.0 in /home/fernando/anaconda3/lib/python3.10/site-packages (from jsonschema<4.18,>=4.14->autogluon.multimodal==0.8.2->autogluon) (22.1.0)\n",
      "Requirement already satisfied: wheel in /home/fernando/anaconda3/lib/python3.10/site-packages (from lightgbm<3.4,>=3.3->autogluon.tabular[all]==0.8.2->autogluon) (0.38.4)\n",
      "Requirement already satisfied: window-ops in /home/fernando/anaconda3/lib/python3.10/site-packages (from mlforecast<0.7.4,>=0.7.0->autogluon.timeseries[all]==0.8.2->autogluon) (0.0.14)\n",
      "Requirement already satisfied: numba in /home/fernando/anaconda3/lib/python3.10/site-packages (from mlforecast<0.7.4,>=0.7.0->autogluon.timeseries[all]==0.8.2->autogluon) (0.56.4)\n",
      "Requirement already satisfied: click in /home/fernando/anaconda3/lib/python3.10/site-packages (from nltk<4.0.0,>=3.4.5->autogluon.multimodal==0.8.2->autogluon) (8.1.7)\n",
      "Requirement already satisfied: regex>=2021.8.3 in /home/fernando/anaconda3/lib/python3.10/site-packages (from nltk<4.0.0,>=3.4.5->autogluon.multimodal==0.8.2->autogluon) (2022.7.9)\n",
      "Requirement already satisfied: typish>=1.7.0 in /home/fernando/anaconda3/lib/python3.10/site-packages (from nptyping<2.5.0,>=1.4.4->autogluon.multimodal==0.8.2->autogluon) (1.9.3)\n",
      "Requirement already satisfied: antlr4-python3-runtime==4.8 in /home/fernando/anaconda3/lib/python3.10/site-packages (from omegaconf<2.3.0,>=2.1.1->autogluon.multimodal==0.8.2->autogluon) (4.8)\n",
      "Requirement already satisfied: rich in /home/fernando/anaconda3/lib/python3.10/site-packages (from openmim<0.4.0,>=0.3.7->autogluon.multimodal==0.8.2->autogluon) (13.4.2)\n",
      "Requirement already satisfied: opendatalab in /home/fernando/anaconda3/lib/python3.10/site-packages (from openmim<0.4.0,>=0.3.7->autogluon.multimodal==0.8.2->autogluon) (0.0.10)\n",
      "Requirement already satisfied: colorama in /home/fernando/anaconda3/lib/python3.10/site-packages (from openmim<0.4.0,>=0.3.7->autogluon.multimodal==0.8.2->autogluon) (0.4.6)\n",
      "Requirement already satisfied: model-index in /home/fernando/anaconda3/lib/python3.10/site-packages (from openmim<0.4.0,>=0.3.7->autogluon.multimodal==0.8.2->autogluon) (0.1.11)\n",
      "Requirement already satisfied: tabulate in /home/fernando/anaconda3/lib/python3.10/site-packages (from openmim<0.4.0,>=0.3.7->autogluon.multimodal==0.8.2->autogluon) (0.8.10)\n",
      "Requirement already satisfied: python-dateutil>=2.8.1 in /home/fernando/anaconda3/lib/python3.10/site-packages (from pandas<1.6,>=1.4.1->autogluon.core[all]==0.8.2->autogluon) (2.8.2)\n",
      "Requirement already satisfied: pytz>=2020.1 in /home/fernando/anaconda3/lib/python3.10/site-packages (from pandas<1.6,>=1.4.1->autogluon.core[all]==0.8.2->autogluon) (2023.3.post1)\n"
     ]
    },
    {
     "name": "stdout",
     "output_type": "stream",
     "text": [
      "Requirement already satisfied: lightning-utilities>=0.6.0.post0 in /home/fernando/anaconda3/lib/python3.10/site-packages (from pytorch-lightning<1.10.0,>=1.9.0->autogluon.multimodal==0.8.2->autogluon) (0.9.0)\n",
      "Requirement already satisfied: protobuf!=3.19.5,>=3.15.3 in /home/fernando/anaconda3/lib/python3.10/site-packages (from ray[tune]<2.4,>=2.3->autogluon.core[all]==0.8.2->autogluon) (3.20.2)\n",
      "Requirement already satisfied: filelock in /home/fernando/anaconda3/lib/python3.10/site-packages (from ray[tune]<2.4,>=2.3->autogluon.core[all]==0.8.2->autogluon) (3.12.4)\n",
      "Requirement already satisfied: aiosignal in /home/fernando/anaconda3/lib/python3.10/site-packages (from ray[tune]<2.4,>=2.3->autogluon.core[all]==0.8.2->autogluon) (1.3.1)\n",
      "Requirement already satisfied: msgpack<2.0.0,>=1.0.0 in /home/fernando/anaconda3/lib/python3.10/site-packages (from ray[tune]<2.4,>=2.3->autogluon.core[all]==0.8.2->autogluon) (1.0.3)\n",
      "Requirement already satisfied: virtualenv>=20.0.24 in /home/fernando/anaconda3/lib/python3.10/site-packages (from ray[tune]<2.4,>=2.3->autogluon.core[all]==0.8.2->autogluon) (20.24.6)\n",
      "Requirement already satisfied: frozenlist in /home/fernando/anaconda3/lib/python3.10/site-packages (from ray[tune]<2.4,>=2.3->autogluon.core[all]==0.8.2->autogluon) (1.4.0)\n",
      "Requirement already satisfied: prometheus-client>=0.7.1 in /home/fernando/anaconda3/lib/python3.10/site-packages (from ray[tune]<2.4,>=2.3->autogluon.core[all]==0.8.2->autogluon) (0.14.1)\n",
      "Requirement already satisfied: gpustat>=1.0.0 in /home/fernando/anaconda3/lib/python3.10/site-packages (from ray[tune]<2.4,>=2.3->autogluon.core[all]==0.8.2->autogluon) (1.1.1)\n",
      "Requirement already satisfied: py-spy>=0.2.0 in /home/fernando/anaconda3/lib/python3.10/site-packages (from ray[tune]<2.4,>=2.3->autogluon.core[all]==0.8.2->autogluon) (0.3.14)\n",
      "Requirement already satisfied: aiohttp>=3.7 in /home/fernando/anaconda3/lib/python3.10/site-packages (from ray[tune]<2.4,>=2.3->autogluon.core[all]==0.8.2->autogluon) (3.8.6)\n",
      "Requirement already satisfied: aiohttp-cors in /home/fernando/anaconda3/lib/python3.10/site-packages (from ray[tune]<2.4,>=2.3->autogluon.core[all]==0.8.2->autogluon) (0.7.0)\n",
      "Requirement already satisfied: smart-open in /home/fernando/anaconda3/lib/python3.10/site-packages (from ray[tune]<2.4,>=2.3->autogluon.core[all]==0.8.2->autogluon) (5.2.1)\n",
      "Requirement already satisfied: opencensus in /home/fernando/anaconda3/lib/python3.10/site-packages (from ray[tune]<2.4,>=2.3->autogluon.core[all]==0.8.2->autogluon) (0.11.3)\n",
      "Requirement already satisfied: colorful in /home/fernando/anaconda3/lib/python3.10/site-packages (from ray[tune]<2.4,>=2.3->autogluon.core[all]==0.8.2->autogluon) (0.5.5)\n",
      "Requirement already satisfied: tensorboardX>=1.9 in /home/fernando/anaconda3/lib/python3.10/site-packages (from ray[tune]<2.4,>=2.3->autogluon.core[all]==0.8.2->autogluon) (2.6.2.2)\n",
      "Requirement already satisfied: certifi>=2017.4.17 in /home/fernando/anaconda3/lib/python3.10/site-packages (from requests->autogluon.core[all]==0.8.2->autogluon) (2022.12.7)\n",
      "Requirement already satisfied: charset-normalizer<4,>=2 in /home/fernando/anaconda3/lib/python3.10/site-packages (from requests->autogluon.core[all]==0.8.2->autogluon) (2.0.4)\n",
      "Requirement already satisfied: idna<4,>=2.5 in /home/fernando/anaconda3/lib/python3.10/site-packages (from requests->autogluon.core[all]==0.8.2->autogluon) (3.4)\n",
      "Requirement already satisfied: urllib3<1.27,>=1.21.1 in /home/fernando/anaconda3/lib/python3.10/site-packages (from requests->autogluon.core[all]==0.8.2->autogluon) (1.26.14)\n",
      "Requirement already satisfied: imageio>=2.4.1 in /home/fernando/anaconda3/lib/python3.10/site-packages (from scikit-image<0.20.0,>=0.19.1->autogluon.multimodal==0.8.2->autogluon) (2.26.0)\n",
      "Requirement already satisfied: tifffile>=2019.7.26 in /home/fernando/anaconda3/lib/python3.10/site-packages (from scikit-image<0.20.0,>=0.19.1->autogluon.multimodal==0.8.2->autogluon) (2021.7.2)\n",
      "Requirement already satisfied: PyWavelets>=1.1.1 in /home/fernando/anaconda3/lib/python3.10/site-packages (from scikit-image<0.20.0,>=0.19.1->autogluon.multimodal==0.8.2->autogluon) (1.4.1)\n",
      "Requirement already satisfied: threadpoolctl>=2.0.0 in /home/fernando/anaconda3/lib/python3.10/site-packages (from scikit-learn<1.3,>=1.0->autogluon.core[all]==0.8.2->autogluon) (2.2.0)\n",
      "Requirement already satisfied: patsy>=0.5.2 in /home/fernando/anaconda3/lib/python3.10/site-packages (from statsmodels<0.15,>=0.13.0->autogluon.timeseries[all]==0.8.2->autogluon) (0.5.3)\n",
      "Requirement already satisfied: google-auth-oauthlib<2,>=0.5 in /home/fernando/anaconda3/lib/python3.10/site-packages (from tensorboard<3,>=2.9->autogluon.multimodal==0.8.2->autogluon) (1.1.0)\n",
      "Requirement already satisfied: werkzeug>=1.0.1 in /home/fernando/anaconda3/lib/python3.10/site-packages (from tensorboard<3,>=2.9->autogluon.multimodal==0.8.2->autogluon) (2.2.2)\n",
      "Requirement already satisfied: absl-py>=0.4 in /home/fernando/anaconda3/lib/python3.10/site-packages (from tensorboard<3,>=2.9->autogluon.multimodal==0.8.2->autogluon) (2.0.0)\n",
      "Requirement already satisfied: markdown>=2.6.8 in /home/fernando/anaconda3/lib/python3.10/site-packages (from tensorboard<3,>=2.9->autogluon.multimodal==0.8.2->autogluon) (3.3.6)\n",
      "Requirement already satisfied: tensorboard-data-server<0.8.0,>=0.7.0 in /home/fernando/anaconda3/lib/python3.10/site-packages (from tensorboard<3,>=2.9->autogluon.multimodal==0.8.2->autogluon) (0.7.2)\n",
      "Requirement already satisfied: google-auth<3,>=1.6.3 in /home/fernando/anaconda3/lib/python3.10/site-packages (from tensorboard<3,>=2.9->autogluon.multimodal==0.8.2->autogluon) (2.23.3)\n",
      "Requirement already satisfied: safetensors in /home/fernando/anaconda3/lib/python3.10/site-packages (from timm<0.10.0,>=0.9.2->autogluon.multimodal==0.8.2->autogluon) (0.3.3)\n",
      "Requirement already satisfied: nvidia-cudnn-cu11==8.5.0.96 in /home/fernando/anaconda3/lib/python3.10/site-packages (from torch<1.14,>=1.9->autogluon.multimodal==0.8.2->autogluon) (8.5.0.96)\n",
      "Requirement already satisfied: nvidia-cublas-cu11==11.10.3.66 in /home/fernando/anaconda3/lib/python3.10/site-packages (from torch<1.14,>=1.9->autogluon.multimodal==0.8.2->autogluon) (11.10.3.66)\n",
      "Requirement already satisfied: nvidia-cuda-runtime-cu11==11.7.99 in /home/fernando/anaconda3/lib/python3.10/site-packages (from torch<1.14,>=1.9->autogluon.multimodal==0.8.2->autogluon) (11.7.99)\n",
      "Requirement already satisfied: nvidia-cuda-nvrtc-cu11==11.7.99 in /home/fernando/anaconda3/lib/python3.10/site-packages (from torch<1.14,>=1.9->autogluon.multimodal==0.8.2->autogluon) (11.7.99)\n",
      "Requirement already satisfied: tokenizers!=0.11.3,<0.14,>=0.11.1 in /home/fernando/anaconda3/lib/python3.10/site-packages (from transformers[sentencepiece]<4.27.0,>=4.23.0->autogluon.multimodal==0.8.2->autogluon) (0.13.3)\n",
      "Requirement already satisfied: sentencepiece!=0.1.92,>=0.1.91 in /home/fernando/anaconda3/lib/python3.10/site-packages (from transformers[sentencepiece]<4.27.0,>=4.23.0->autogluon.multimodal==0.8.2->autogluon) (0.1.99)\n",
      "Requirement already satisfied: cycler>=0.10 in /home/fernando/anaconda3/lib/python3.10/site-packages (from matplotlib->autogluon.core[all]==0.8.2->autogluon) (0.11.0)\n",
      "Requirement already satisfied: fonttools>=4.22.0 in /home/fernando/anaconda3/lib/python3.10/site-packages (from matplotlib->autogluon.core[all]==0.8.2->autogluon) (4.25.0)\n",
      "Requirement already satisfied: kiwisolver>=1.0.1 in /home/fernando/anaconda3/lib/python3.10/site-packages (from matplotlib->autogluon.core[all]==0.8.2->autogluon) (1.4.4)\n",
      "Requirement already satisfied: contourpy>=1.0.1 in /home/fernando/anaconda3/lib/python3.10/site-packages (from matplotlib->autogluon.core[all]==0.8.2->autogluon) (1.0.5)\n",
      "Requirement already satisfied: pyparsing>=2.3.1 in /home/fernando/anaconda3/lib/python3.10/site-packages (from matplotlib->autogluon.core[all]==0.8.2->autogluon) (3.0.9)\n",
      "Requirement already satisfied: multidict<7.0,>=4.5 in /home/fernando/anaconda3/lib/python3.10/site-packages (from aiohttp>=3.7->ray[tune]<2.4,>=2.3->autogluon.core[all]==0.8.2->autogluon) (6.0.4)\n",
      "Requirement already satisfied: yarl<2.0,>=1.0 in /home/fernando/anaconda3/lib/python3.10/site-packages (from aiohttp>=3.7->ray[tune]<2.4,>=2.3->autogluon.core[all]==0.8.2->autogluon) (1.9.2)\n",
      "Requirement already satisfied: async-timeout<5.0,>=4.0.0a3 in /home/fernando/anaconda3/lib/python3.10/site-packages (from aiohttp>=3.7->ray[tune]<2.4,>=2.3->autogluon.core[all]==0.8.2->autogluon) (4.0.3)\n"
     ]
    },
    {
     "name": "stdout",
     "output_type": "stream",
     "text": [
      "Requirement already satisfied: pyarrow>=8.0.0 in /home/fernando/anaconda3/lib/python3.10/site-packages (from datasets>=2.0.0->evaluate<0.4.0,>=0.2.2->autogluon.multimodal==0.8.2->autogluon) (13.0.0)\n",
      "Requirement already satisfied: rsa<5,>=3.1.4 in /home/fernando/anaconda3/lib/python3.10/site-packages (from google-auth<3,>=1.6.3->tensorboard<3,>=2.9->autogluon.multimodal==0.8.2->autogluon) (4.9)\n",
      "Requirement already satisfied: pyasn1-modules>=0.2.1 in /home/fernando/anaconda3/lib/python3.10/site-packages (from google-auth<3,>=1.6.3->tensorboard<3,>=2.9->autogluon.multimodal==0.8.2->autogluon) (0.2.8)\n",
      "Requirement already satisfied: cachetools<6.0,>=2.0.0 in /home/fernando/anaconda3/lib/python3.10/site-packages (from google-auth<3,>=1.6.3->tensorboard<3,>=2.9->autogluon.multimodal==0.8.2->autogluon) (5.3.2)\n",
      "Requirement already satisfied: requests-oauthlib>=0.7.0 in /home/fernando/anaconda3/lib/python3.10/site-packages (from google-auth-oauthlib<2,>=0.5->tensorboard<3,>=2.9->autogluon.multimodal==0.8.2->autogluon) (1.3.1)\n",
      "Requirement already satisfied: blessed>=1.17.1 in /home/fernando/anaconda3/lib/python3.10/site-packages (from gpustat>=1.0.0->ray[tune]<2.4,>=2.3->autogluon.core[all]==0.8.2->autogluon) (1.20.0)\n",
      "Requirement already satisfied: nvidia-ml-py>=11.450.129 in /home/fernando/anaconda3/lib/python3.10/site-packages (from gpustat>=1.0.0->ray[tune]<2.4,>=2.3->autogluon.core[all]==0.8.2->autogluon) (12.535.108)\n",
      "Requirement already satisfied: llvmlite<0.40,>=0.39.0dev0 in /home/fernando/anaconda3/lib/python3.10/site-packages (from numba->mlforecast<0.7.4,>=0.7.0->autogluon.timeseries[all]==0.8.2->autogluon) (0.39.1)\n",
      "Requirement already satisfied: cymem<2.1.0,>=2.0.2 in /home/fernando/anaconda3/lib/python3.10/site-packages (from spacy<4->fastai<2.8,>=2.3.1->autogluon.tabular[all]==0.8.2->autogluon) (2.0.7)\n",
      "Requirement already satisfied: pathy>=0.10.0 in /home/fernando/anaconda3/lib/python3.10/site-packages (from spacy<4->fastai<2.8,>=2.3.1->autogluon.tabular[all]==0.8.2->autogluon) (0.10.1)\n",
      "Requirement already satisfied: typer<0.8.0,>=0.3.0 in /home/fernando/anaconda3/lib/python3.10/site-packages (from spacy<4->fastai<2.8,>=2.3.1->autogluon.tabular[all]==0.8.2->autogluon) (0.7.0)\n",
      "Requirement already satisfied: preshed<3.1.0,>=3.0.2 in /home/fernando/anaconda3/lib/python3.10/site-packages (from spacy<4->fastai<2.8,>=2.3.1->autogluon.tabular[all]==0.8.2->autogluon) (3.0.8)\n",
      "Requirement already satisfied: murmurhash<1.1.0,>=0.28.0 in /home/fernando/anaconda3/lib/python3.10/site-packages (from spacy<4->fastai<2.8,>=2.3.1->autogluon.tabular[all]==0.8.2->autogluon) (1.0.9)\n",
      "Requirement already satisfied: wasabi<1.2.0,>=0.9.1 in /home/fernando/anaconda3/lib/python3.10/site-packages (from spacy<4->fastai<2.8,>=2.3.1->autogluon.tabular[all]==0.8.2->autogluon) (1.1.1)\n",
      "Requirement already satisfied: spacy-legacy<3.1.0,>=3.0.11 in /home/fernando/anaconda3/lib/python3.10/site-packages (from spacy<4->fastai<2.8,>=2.3.1->autogluon.tabular[all]==0.8.2->autogluon) (3.0.12)\n",
      "Requirement already satisfied: srsly<3.0.0,>=2.4.3 in /home/fernando/anaconda3/lib/python3.10/site-packages (from spacy<4->fastai<2.8,>=2.3.1->autogluon.tabular[all]==0.8.2->autogluon) (2.4.6)\n",
      "Requirement already satisfied: langcodes<4.0.0,>=3.2.0 in /home/fernando/anaconda3/lib/python3.10/site-packages (from spacy<4->fastai<2.8,>=2.3.1->autogluon.tabular[all]==0.8.2->autogluon) (3.3.0)\n",
      "Requirement already satisfied: thinc<8.2.0,>=8.1.8 in /home/fernando/anaconda3/lib/python3.10/site-packages (from spacy<4->fastai<2.8,>=2.3.1->autogluon.tabular[all]==0.8.2->autogluon) (8.1.10)\n",
      "Requirement already satisfied: catalogue<2.1.0,>=2.0.6 in /home/fernando/anaconda3/lib/python3.10/site-packages (from spacy<4->fastai<2.8,>=2.3.1->autogluon.tabular[all]==0.8.2->autogluon) (2.0.8)\n",
      "Requirement already satisfied: spacy-loggers<2.0.0,>=1.0.0 in /home/fernando/anaconda3/lib/python3.10/site-packages (from spacy<4->fastai<2.8,>=2.3.1->autogluon.tabular[all]==0.8.2->autogluon) (1.0.4)\n",
      "Requirement already satisfied: distlib<1,>=0.3.7 in /home/fernando/anaconda3/lib/python3.10/site-packages (from virtualenv>=20.0.24->ray[tune]<2.4,>=2.3->autogluon.core[all]==0.8.2->autogluon) (0.3.7)\n",
      "Requirement already satisfied: platformdirs<4,>=3.9.1 in /home/fernando/anaconda3/lib/python3.10/site-packages (from virtualenv>=20.0.24->ray[tune]<2.4,>=2.3->autogluon.core[all]==0.8.2->autogluon) (3.11.0)\n",
      "Requirement already satisfied: ordered-set in /home/fernando/anaconda3/lib/python3.10/site-packages (from model-index->openmim<0.4.0,>=0.3.7->autogluon.multimodal==0.8.2->autogluon) (4.1.0)\n",
      "Requirement already satisfied: google-api-core<3.0.0,>=1.0.0 in /home/fernando/anaconda3/lib/python3.10/site-packages (from opencensus->ray[tune]<2.4,>=2.3->autogluon.core[all]==0.8.2->autogluon) (2.12.0)\n",
      "Requirement already satisfied: opencensus-context>=0.1.3 in /home/fernando/anaconda3/lib/python3.10/site-packages (from opencensus->ray[tune]<2.4,>=2.3->autogluon.core[all]==0.8.2->autogluon) (0.1.3)\n",
      "Requirement already satisfied: pycryptodome in /home/fernando/anaconda3/lib/python3.10/site-packages (from opendatalab->openmim<0.4.0,>=0.3.7->autogluon.multimodal==0.8.2->autogluon) (3.19.0)\n",
      "Requirement already satisfied: openxlab in /home/fernando/anaconda3/lib/python3.10/site-packages (from opendatalab->openmim<0.4.0,>=0.3.7->autogluon.multimodal==0.8.2->autogluon) (0.0.28)\n",
      "Requirement already satisfied: tenacity>=6.2.0 in /home/fernando/anaconda3/lib/python3.10/site-packages (from plotly->catboost<1.3,>=1.1->autogluon.tabular[all]==0.8.2->autogluon) (8.0.1)\n",
      "Requirement already satisfied: pygments<3.0.0,>=2.13.0 in /home/fernando/anaconda3/lib/python3.10/site-packages (from rich->openmim<0.4.0,>=0.3.7->autogluon.multimodal==0.8.2->autogluon) (2.15.1)\n",
      "Requirement already satisfied: markdown-it-py>=2.2.0 in /home/fernando/anaconda3/lib/python3.10/site-packages (from rich->openmim<0.4.0,>=0.3.7->autogluon.multimodal==0.8.2->autogluon) (3.0.0)\n",
      "Requirement already satisfied: wcwidth>=0.1.4 in /home/fernando/anaconda3/lib/python3.10/site-packages (from blessed>=1.17.1->gpustat>=1.0.0->ray[tune]<2.4,>=2.3->autogluon.core[all]==0.8.2->autogluon) (0.2.5)\n",
      "Requirement already satisfied: googleapis-common-protos<2.0.dev0,>=1.56.2 in /home/fernando/anaconda3/lib/python3.10/site-packages (from google-api-core<3.0.0,>=1.0.0->opencensus->ray[tune]<2.4,>=2.3->autogluon.core[all]==0.8.2->autogluon) (1.61.0)\n",
      "Requirement already satisfied: mdurl~=0.1 in /home/fernando/anaconda3/lib/python3.10/site-packages (from markdown-it-py>=2.2.0->rich->openmim<0.4.0,>=0.3.7->autogluon.multimodal==0.8.2->autogluon) (0.1.2)\n",
      "Requirement already satisfied: pyasn1<0.5.0,>=0.4.6 in /home/fernando/anaconda3/lib/python3.10/site-packages (from pyasn1-modules>=0.2.1->google-auth<3,>=1.6.3->tensorboard<3,>=2.9->autogluon.multimodal==0.8.2->autogluon) (0.4.8)\n",
      "Requirement already satisfied: oauthlib>=3.0.0 in /home/fernando/anaconda3/lib/python3.10/site-packages (from requests-oauthlib>=0.7.0->google-auth-oauthlib<2,>=0.5->tensorboard<3,>=2.9->autogluon.multimodal==0.8.2->autogluon) (3.2.2)\n",
      "Requirement already satisfied: blis<0.8.0,>=0.7.8 in /home/fernando/anaconda3/lib/python3.10/site-packages (from thinc<8.2.0,>=8.1.8->spacy<4->fastai<2.8,>=2.3.1->autogluon.tabular[all]==0.8.2->autogluon) (0.7.9)\n",
      "Requirement already satisfied: confection<1.0.0,>=0.0.1 in /home/fernando/anaconda3/lib/python3.10/site-packages (from thinc<8.2.0,>=8.1.8->spacy<4->fastai<2.8,>=2.3.1->autogluon.tabular[all]==0.8.2->autogluon) (0.0.4)\n",
      "Requirement already satisfied: oss2~=2.17.0 in /home/fernando/anaconda3/lib/python3.10/site-packages (from openxlab->opendatalab->openmim<0.4.0,>=0.3.7->autogluon.multimodal==0.8.2->autogluon) (2.17.0)\n",
      "Requirement already satisfied: crcmod>=1.7 in /home/fernando/anaconda3/lib/python3.10/site-packages (from oss2~=2.17.0->openxlab->opendatalab->openmim<0.4.0,>=0.3.7->autogluon.multimodal==0.8.2->autogluon) (1.7)\n",
      "Requirement already satisfied: aliyun-python-sdk-core>=2.13.12 in /home/fernando/anaconda3/lib/python3.10/site-packages (from oss2~=2.17.0->openxlab->opendatalab->openmim<0.4.0,>=0.3.7->autogluon.multimodal==0.8.2->autogluon) (2.14.0)\n",
      "Requirement already satisfied: aliyun-python-sdk-kms>=2.4.1 in /home/fernando/anaconda3/lib/python3.10/site-packages (from oss2~=2.17.0->openxlab->opendatalab->openmim<0.4.0,>=0.3.7->autogluon.multimodal==0.8.2->autogluon) (2.16.2)\n"
     ]
    },
    {
     "name": "stdout",
     "output_type": "stream",
     "text": [
      "Requirement already satisfied: cryptography>=2.6.0 in /home/fernando/anaconda3/lib/python3.10/site-packages (from aliyun-python-sdk-core>=2.13.12->oss2~=2.17.0->openxlab->opendatalab->openmim<0.4.0,>=0.3.7->autogluon.multimodal==0.8.2->autogluon) (39.0.1)\n",
      "Requirement already satisfied: cffi>=1.12 in /home/fernando/anaconda3/lib/python3.10/site-packages (from cryptography>=2.6.0->aliyun-python-sdk-core>=2.13.12->oss2~=2.17.0->openxlab->opendatalab->openmim<0.4.0,>=0.3.7->autogluon.multimodal==0.8.2->autogluon) (1.15.1)\n",
      "Requirement already satisfied: pycparser in /home/fernando/anaconda3/lib/python3.10/site-packages (from cffi>=1.12->cryptography>=2.6.0->aliyun-python-sdk-core>=2.13.12->oss2~=2.17.0->openxlab->opendatalab->openmim<0.4.0,>=0.3.7->autogluon.multimodal==0.8.2->autogluon) (2.21)\n",
      "Installing collected packages: networkx, jsonschema, scikit-learn, ray, torchmetrics, timm, autogluon.common, autogluon.features, autogluon.core, openmim, autogluon.multimodal\n",
      "  Attempting uninstall: networkx\n",
      "    Found existing installation: networkx 2.8.8\n",
      "    Uninstalling networkx-2.8.8:\n",
      "      Successfully uninstalled networkx-2.8.8\n",
      "  Attempting uninstall: jsonschema\n",
      "    Found existing installation: jsonschema 4.8.0\n",
      "    Uninstalling jsonschema-4.8.0:\n",
      "      Successfully uninstalled jsonschema-4.8.0\n",
      "  Attempting uninstall: scikit-learn\n",
      "    Found existing installation: scikit-learn 0.24.2\n",
      "    Uninstalling scikit-learn-0.24.2:\n",
      "      Successfully uninstalled scikit-learn-0.24.2\n",
      "  Attempting uninstall: ray\n",
      "    Found existing installation: ray 2.2.0\n",
      "    Uninstalling ray-2.2.0:\n",
      "      Successfully uninstalled ray-2.2.0\n",
      "  Attempting uninstall: torchmetrics\n",
      "    Found existing installation: torchmetrics 0.8.2\n",
      "    Uninstalling torchmetrics-0.8.2:\n",
      "      Successfully uninstalled torchmetrics-0.8.2\n",
      "  Attempting uninstall: timm\n",
      "    Found existing installation: timm 0.6.13\n",
      "    Uninstalling timm-0.6.13:\n",
      "      Successfully uninstalled timm-0.6.13\n",
      "  Attempting uninstall: autogluon.common\n",
      "    Found existing installation: autogluon.common 0.6.3b20230123\n",
      "    Uninstalling autogluon.common-0.6.3b20230123:\n",
      "      Successfully uninstalled autogluon.common-0.6.3b20230123\n",
      "  Attempting uninstall: autogluon.features\n",
      "    Found existing installation: autogluon.features 0.6.3b20230123\n",
      "    Uninstalling autogluon.features-0.6.3b20230123:\n",
      "      Successfully uninstalled autogluon.features-0.6.3b20230123\n",
      "  Attempting uninstall: autogluon.core\n",
      "    Found existing installation: autogluon.core 0.6.3b20230123\n",
      "    Uninstalling autogluon.core-0.6.3b20230123:\n",
      "      Successfully uninstalled autogluon.core-0.6.3b20230123\n",
      "  Attempting uninstall: openmim\n",
      "    Found existing installation: openmim 0.2.1\n",
      "    Uninstalling openmim-0.2.1:\n",
      "      Successfully uninstalled openmim-0.2.1\n",
      "  Attempting uninstall: autogluon.multimodal\n",
      "    Found existing installation: autogluon.multimodal 0.6.3b20230123\n",
      "    Uninstalling autogluon.multimodal-0.6.3b20230123:\n",
      "      Successfully uninstalled autogluon.multimodal-0.6.3b20230123\n",
      "\u001b[31mERROR: pip's dependency resolver does not currently take into account all the packages that are installed. This behaviour is the source of the following dependency conflicts.\n",
      "spyder 5.4.1 requires pyqt5<5.16, which is not installed.\n",
      "spyder 5.4.1 requires pyqtwebengine<5.16, which is not installed.\n",
      "conda-repo-cli 1.0.41 requires requests_mock, which is not installed.\n",
      "pyldavis 3.4.1 requires numpy>=1.24.2, but you have numpy 1.23.5 which is incompatible.\n",
      "pyldavis 3.4.1 requires pandas>=2.0.0, but you have pandas 1.5.3 which is incompatible.\n",
      "conda-repo-cli 1.0.41 requires clyent==1.2.1, but you have clyent 1.2.2 which is incompatible.\n",
      "conda-repo-cli 1.0.41 requires nbformat==5.4.0, but you have nbformat 5.7.0 which is incompatible.\n",
      "conda-repo-cli 1.0.41 requires requests==2.28.1, but you have requests 2.28.2 which is incompatible.\n",
      "autogluon-text 0.6.3b20230123 requires autogluon.multimodal==0.6.3b20230123, but you have autogluon-multimodal 0.8.2 which is incompatible.\n",
      "auto-sklearn 0.15.0 requires scikit-learn<0.25.0,>=0.24.0, but you have scikit-learn 1.2.2 which is incompatible.\u001b[0m\u001b[31m\n",
      "\u001b[0mSuccessfully installed autogluon.common-0.8.2 autogluon.core-0.8.2 autogluon.features-0.8.2 autogluon.multimodal-0.8.2 jsonschema-4.17.3 networkx-3.2.1 openmim-0.3.9 ray-2.3.1 scikit-learn-1.2.2 timm-0.9.11 torchmetrics-0.11.4\n",
      "Note: you may need to restart the kernel to use updated packages.\n",
      "Requirement already satisfied: autogluon.text in /home/fernando/anaconda3/lib/python3.10/site-packages (0.6.3b20230123)\n",
      "Collecting autogluon.multimodal==0.6.3b20230123\n",
      "  Using cached autogluon.multimodal-0.6.3b20230123-py3-none-any.whl (309 kB)\n",
      "Requirement already satisfied: pandas<1.6,>1.4.0 in /home/fernando/anaconda3/lib/python3.10/site-packages (from autogluon.multimodal==0.6.3b20230123->autogluon.text) (1.5.3)\n",
      "Requirement already satisfied: fairscale<0.4.14,>=0.4.5 in /home/fernando/anaconda3/lib/python3.10/site-packages (from autogluon.multimodal==0.6.3b20230123->autogluon.text) (0.4.13)\n",
      "Requirement already satisfied: torch<1.14,>=1.9 in /home/fernando/anaconda3/lib/python3.10/site-packages (from autogluon.multimodal==0.6.3b20230123->autogluon.text) (1.13.1)\n",
      "Collecting autogluon.features==0.6.3b20230123\n",
      "  Using cached autogluon.features-0.6.3b20230123-py3-none-any.whl (60 kB)\n",
      "Requirement already satisfied: torchvision<0.15.0 in /home/fernando/anaconda3/lib/python3.10/site-packages (from autogluon.multimodal==0.6.3b20230123->autogluon.text) (0.14.1)\n",
      "Requirement already satisfied: tensorboard in /home/fernando/anaconda3/lib/python3.10/site-packages (from autogluon.multimodal==0.6.3b20230123->autogluon.text) (2.15.0)\n",
      "Requirement already satisfied: smart-open<5.3.0,>=5.2.1 in /home/fernando/anaconda3/lib/python3.10/site-packages (from autogluon.multimodal==0.6.3b20230123->autogluon.text) (5.2.1)\n",
      "Requirement already satisfied: sentencepiece<0.2.0,>=0.1.95 in /home/fernando/anaconda3/lib/python3.10/site-packages (from autogluon.multimodal==0.6.3b20230123->autogluon.text) (0.1.99)\n",
      "Requirement already satisfied: scikit-image<0.20.0,>=0.19.1 in /home/fernando/anaconda3/lib/python3.10/site-packages (from autogluon.multimodal==0.6.3b20230123->autogluon.text) (0.19.3)\n",
      "Collecting timm<0.7.0\n",
      "  Using cached timm-0.6.13-py3-none-any.whl (549 kB)\n",
      "Requirement already satisfied: transformers<4.26.0,>=4.23.0 in /home/fernando/anaconda3/lib/python3.10/site-packages (from autogluon.multimodal==0.6.3b20230123->autogluon.text) (4.25.1)\n",
      "Requirement already satisfied: nptyping<1.5.0,>=1.4.4 in /home/fernando/anaconda3/lib/python3.10/site-packages (from autogluon.multimodal==0.6.3b20230123->autogluon.text) (1.4.4)\n",
      "Collecting autogluon.core[raytune]==0.6.3b20230123\n",
      "  Using cached autogluon.core-0.6.3b20230123-py3-none-any.whl (227 kB)\n",
      "Collecting jsonschema<=4.8.0\n",
      "  Using cached jsonschema-4.8.0-py3-none-any.whl (81 kB)\n",
      "Requirement already satisfied: pytorch-lightning<1.10.0,>=1.8.0 in /home/fernando/anaconda3/lib/python3.10/site-packages (from autogluon.multimodal==0.6.3b20230123->autogluon.text) (1.9.5)\n",
      "Collecting scikit-learn<1.2,>=1.0.0\n",
      "  Using cached scikit_learn-1.1.3-cp310-cp310-manylinux_2_17_x86_64.manylinux2014_x86_64.whl (30.5 MB)\n",
      "Requirement already satisfied: accelerate<0.16,>=0.9 in /home/fernando/anaconda3/lib/python3.10/site-packages (from autogluon.multimodal==0.6.3b20230123->autogluon.text) (0.15.0)\n",
      "Requirement already satisfied: Pillow<=9.4.0,>=9.3.0 in /home/fernando/anaconda3/lib/python3.10/site-packages (from autogluon.multimodal==0.6.3b20230123->autogluon.text) (9.4.0)\n",
      "Collecting autogluon.common==0.6.3b20230123\n",
      "  Using cached autogluon.common-0.6.3b20230123-py3-none-any.whl (45 kB)\n",
      "Requirement already satisfied: numpy<1.24,>=1.21 in /home/fernando/anaconda3/lib/python3.10/site-packages (from autogluon.multimodal==0.6.3b20230123->autogluon.text) (1.23.5)\n",
      "Requirement already satisfied: nlpaug<=1.1.10,>=1.1.10 in /home/fernando/anaconda3/lib/python3.10/site-packages (from autogluon.multimodal==0.6.3b20230123->autogluon.text) (1.1.10)\n",
      "Requirement already satisfied: tqdm>=4.38.0 in /home/fernando/anaconda3/lib/python3.10/site-packages (from autogluon.multimodal==0.6.3b20230123->autogluon.text) (4.65.2)\n",
      "Requirement already satisfied: requests in /home/fernando/anaconda3/lib/python3.10/site-packages (from autogluon.multimodal==0.6.3b20230123->autogluon.text) (2.28.2)\n",
      "Requirement already satisfied: albumentations<=1.2.0,>=1.1.0 in /home/fernando/anaconda3/lib/python3.10/site-packages (from autogluon.multimodal==0.6.3b20230123->autogluon.text) (1.1.0)\n",
      "Collecting torchmetrics<0.9.0,>=0.8.0\n",
      "  Using cached torchmetrics-0.8.2-py3-none-any.whl (409 kB)\n"
     ]
    },
    {
     "name": "stdout",
     "output_type": "stream",
     "text": [
      "Requirement already satisfied: defusedxml<=0.7.1,>=0.7.1 in /home/fernando/anaconda3/lib/python3.10/site-packages (from autogluon.multimodal==0.6.3b20230123->autogluon.text) (0.7.1)\n",
      "Collecting openmim<=0.2.1,>0.1.5\n",
      "  Using cached openmim-0.2.1-py2.py3-none-any.whl (49 kB)\n",
      "Requirement already satisfied: seqeval<=1.2.2 in /home/fernando/anaconda3/lib/python3.10/site-packages (from autogluon.multimodal==0.6.3b20230123->autogluon.text) (1.2.2)\n",
      "Requirement already satisfied: scipy<1.10.0,>=1.5.4 in /home/fernando/anaconda3/lib/python3.10/site-packages (from autogluon.multimodal==0.6.3b20230123->autogluon.text) (1.8.1)\n",
      "Requirement already satisfied: pytorch-metric-learning<1.4.0,>=1.3.0 in /home/fernando/anaconda3/lib/python3.10/site-packages (from autogluon.multimodal==0.6.3b20230123->autogluon.text) (1.3.2)\n",
      "Requirement already satisfied: text-unidecode<=1.3 in /home/fernando/anaconda3/lib/python3.10/site-packages (from autogluon.multimodal==0.6.3b20230123->autogluon.text) (1.3)\n",
      "Requirement already satisfied: evaluate<=0.3.0 in /home/fernando/anaconda3/lib/python3.10/site-packages (from autogluon.multimodal==0.6.3b20230123->autogluon.text) (0.3.0)\n",
      "Requirement already satisfied: nltk<4.0.0,>=3.4.5 in /home/fernando/anaconda3/lib/python3.10/site-packages (from autogluon.multimodal==0.6.3b20230123->autogluon.text) (3.7)\n",
      "Requirement already satisfied: omegaconf<2.2.0,>=2.1.1 in /home/fernando/anaconda3/lib/python3.10/site-packages (from autogluon.multimodal==0.6.3b20230123->autogluon.text) (2.1.2)\n",
      "Requirement already satisfied: boto3 in /home/fernando/anaconda3/lib/python3.10/site-packages (from autogluon.multimodal==0.6.3b20230123->autogluon.text) (1.26.83)\n",
      "Requirement already satisfied: setuptools in /home/fernando/anaconda3/lib/python3.10/site-packages (from autogluon.common==0.6.3b20230123->autogluon.multimodal==0.6.3b20230123->autogluon.text) (60.2.0)\n",
      "Requirement already satisfied: psutil<6,>=5.7.3 in /home/fernando/anaconda3/lib/python3.10/site-packages (from autogluon.common==0.6.3b20230123->autogluon.multimodal==0.6.3b20230123->autogluon.text) (5.9.0)\n",
      "Collecting dask<=2021.11.2,>=2021.09.1\n",
      "  Using cached dask-2021.11.2-py3-none-any.whl (1.0 MB)\n",
      "Requirement already satisfied: matplotlib in /home/fernando/anaconda3/lib/python3.10/site-packages (from autogluon.core[raytune]==0.6.3b20230123->autogluon.multimodal==0.6.3b20230123->autogluon.text) (3.7.0)\n",
      "Collecting networkx<3.0,>=2.3\n",
      "  Using cached networkx-2.8.8-py3-none-any.whl (2.0 MB)\n",
      "Collecting distributed<=2021.11.2,>=2021.09.1\n",
      "  Using cached distributed-2021.11.2-py3-none-any.whl (802 kB)\n",
      "Requirement already satisfied: hyperopt<0.2.8,>=0.2.7 in /home/fernando/anaconda3/lib/python3.10/site-packages (from autogluon.core[raytune]==0.6.3b20230123->autogluon.multimodal==0.6.3b20230123->autogluon.text) (0.2.7)\n",
      "Collecting ray[tune]<2.3,>=2.2\n",
      "  Using cached ray-2.2.0-cp310-cp310-manylinux2014_x86_64.whl (57.4 MB)\n",
      "Requirement already satisfied: pyyaml in /home/fernando/anaconda3/lib/python3.10/site-packages (from accelerate<0.16,>=0.9->autogluon.multimodal==0.6.3b20230123->autogluon.text) (6.0)\n",
      "Requirement already satisfied: packaging>=20.0 in /home/fernando/anaconda3/lib/python3.10/site-packages (from accelerate<0.16,>=0.9->autogluon.multimodal==0.6.3b20230123->autogluon.text) (22.0)\n",
      "Requirement already satisfied: qudida>=0.0.4 in /home/fernando/anaconda3/lib/python3.10/site-packages (from albumentations<=1.2.0,>=1.1.0->autogluon.multimodal==0.6.3b20230123->autogluon.text) (0.0.4)\n",
      "Requirement already satisfied: opencv-python-headless>=4.1.1 in /home/fernando/anaconda3/lib/python3.10/site-packages (from albumentations<=1.2.0,>=1.1.0->autogluon.multimodal==0.6.3b20230123->autogluon.text) (4.8.1.78)\n",
      "Requirement already satisfied: xxhash in /home/fernando/anaconda3/lib/python3.10/site-packages (from evaluate<=0.3.0->autogluon.multimodal==0.6.3b20230123->autogluon.text) (3.4.1)\n",
      "Requirement already satisfied: datasets>=2.0.0 in /home/fernando/anaconda3/lib/python3.10/site-packages (from evaluate<=0.3.0->autogluon.multimodal==0.6.3b20230123->autogluon.text) (2.14.6)\n",
      "Requirement already satisfied: dill in /home/fernando/anaconda3/lib/python3.10/site-packages (from evaluate<=0.3.0->autogluon.multimodal==0.6.3b20230123->autogluon.text) (0.3.7)\n",
      "Requirement already satisfied: responses<0.19 in /home/fernando/anaconda3/lib/python3.10/site-packages (from evaluate<=0.3.0->autogluon.multimodal==0.6.3b20230123->autogluon.text) (0.18.0)\n",
      "Requirement already satisfied: huggingface-hub>=0.7.0 in /home/fernando/anaconda3/lib/python3.10/site-packages (from evaluate<=0.3.0->autogluon.multimodal==0.6.3b20230123->autogluon.text) (0.17.3)\n",
      "Requirement already satisfied: fsspec[http]>=2021.05.0 in /home/fernando/anaconda3/lib/python3.10/site-packages (from evaluate<=0.3.0->autogluon.multimodal==0.6.3b20230123->autogluon.text) (2023.10.0)\n",
      "Requirement already satisfied: multiprocess in /home/fernando/anaconda3/lib/python3.10/site-packages (from evaluate<=0.3.0->autogluon.multimodal==0.6.3b20230123->autogluon.text) (0.70.15)\n",
      "Requirement already satisfied: attrs>=17.4.0 in /home/fernando/anaconda3/lib/python3.10/site-packages (from jsonschema<=4.8.0->autogluon.multimodal==0.6.3b20230123->autogluon.text) (22.1.0)\n",
      "Requirement already satisfied: pyrsistent!=0.17.0,!=0.17.1,!=0.17.2,>=0.14.0 in /home/fernando/anaconda3/lib/python3.10/site-packages (from jsonschema<=4.8.0->autogluon.multimodal==0.6.3b20230123->autogluon.text) (0.18.0)\n",
      "Requirement already satisfied: click in /home/fernando/anaconda3/lib/python3.10/site-packages (from nltk<4.0.0,>=3.4.5->autogluon.multimodal==0.6.3b20230123->autogluon.text) (8.1.7)\n",
      "Requirement already satisfied: joblib in /home/fernando/anaconda3/lib/python3.10/site-packages (from nltk<4.0.0,>=3.4.5->autogluon.multimodal==0.6.3b20230123->autogluon.text) (1.2.0)\n",
      "Requirement already satisfied: regex>=2021.8.3 in /home/fernando/anaconda3/lib/python3.10/site-packages (from nltk<4.0.0,>=3.4.5->autogluon.multimodal==0.6.3b20230123->autogluon.text) (2022.7.9)\n",
      "Requirement already satisfied: typish>=1.7.0 in /home/fernando/anaconda3/lib/python3.10/site-packages (from nptyping<1.5.0,>=1.4.4->autogluon.multimodal==0.6.3b20230123->autogluon.text) (1.9.3)\n",
      "Requirement already satisfied: antlr4-python3-runtime==4.8 in /home/fernando/anaconda3/lib/python3.10/site-packages (from omegaconf<2.2.0,>=2.1.1->autogluon.multimodal==0.6.3b20230123->autogluon.text) (4.8)\n",
      "Requirement already satisfied: rich in /home/fernando/anaconda3/lib/python3.10/site-packages (from openmim<=0.2.1,>0.1.5->autogluon.multimodal==0.6.3b20230123->autogluon.text) (13.4.2)\n",
      "Requirement already satisfied: pip>=19.3 in /home/fernando/anaconda3/lib/python3.10/site-packages (from openmim<=0.2.1,>0.1.5->autogluon.multimodal==0.6.3b20230123->autogluon.text) (22.3.1)\n",
      "Requirement already satisfied: model-index in /home/fernando/anaconda3/lib/python3.10/site-packages (from openmim<=0.2.1,>0.1.5->autogluon.multimodal==0.6.3b20230123->autogluon.text) (0.1.11)\n",
      "Requirement already satisfied: colorama in /home/fernando/anaconda3/lib/python3.10/site-packages (from openmim<=0.2.1,>0.1.5->autogluon.multimodal==0.6.3b20230123->autogluon.text) (0.4.6)\n",
      "Requirement already satisfied: tabulate in /home/fernando/anaconda3/lib/python3.10/site-packages (from openmim<=0.2.1,>0.1.5->autogluon.multimodal==0.6.3b20230123->autogluon.text) (0.8.10)\n",
      "Requirement already satisfied: python-dateutil>=2.8.1 in /home/fernando/anaconda3/lib/python3.10/site-packages (from pandas<1.6,>1.4.0->autogluon.multimodal==0.6.3b20230123->autogluon.text) (2.8.2)\n",
      "Requirement already satisfied: pytz>=2020.1 in /home/fernando/anaconda3/lib/python3.10/site-packages (from pandas<1.6,>1.4.0->autogluon.multimodal==0.6.3b20230123->autogluon.text) (2023.3.post1)\n",
      "Requirement already satisfied: typing-extensions>=4.0.0 in /home/fernando/anaconda3/lib/python3.10/site-packages (from pytorch-lightning<1.10.0,>=1.8.0->autogluon.multimodal==0.6.3b20230123->autogluon.text) (4.4.0)\n",
      "Requirement already satisfied: lightning-utilities>=0.6.0.post0 in /home/fernando/anaconda3/lib/python3.10/site-packages (from pytorch-lightning<1.10.0,>=1.8.0->autogluon.multimodal==0.6.3b20230123->autogluon.text) (0.9.0)\n",
      "Requirement already satisfied: certifi>=2017.4.17 in /home/fernando/anaconda3/lib/python3.10/site-packages (from requests->autogluon.multimodal==0.6.3b20230123->autogluon.text) (2022.12.7)\n",
      "Requirement already satisfied: idna<4,>=2.5 in /home/fernando/anaconda3/lib/python3.10/site-packages (from requests->autogluon.multimodal==0.6.3b20230123->autogluon.text) (3.4)\n",
      "Requirement already satisfied: urllib3<1.27,>=1.21.1 in /home/fernando/anaconda3/lib/python3.10/site-packages (from requests->autogluon.multimodal==0.6.3b20230123->autogluon.text) (1.26.14)\n",
      "Requirement already satisfied: charset-normalizer<4,>=2 in /home/fernando/anaconda3/lib/python3.10/site-packages (from requests->autogluon.multimodal==0.6.3b20230123->autogluon.text) (2.0.4)\n"
     ]
    },
    {
     "name": "stdout",
     "output_type": "stream",
     "text": [
      "Requirement already satisfied: PyWavelets>=1.1.1 in /home/fernando/anaconda3/lib/python3.10/site-packages (from scikit-image<0.20.0,>=0.19.1->autogluon.multimodal==0.6.3b20230123->autogluon.text) (1.4.1)\n",
      "Requirement already satisfied: imageio>=2.4.1 in /home/fernando/anaconda3/lib/python3.10/site-packages (from scikit-image<0.20.0,>=0.19.1->autogluon.multimodal==0.6.3b20230123->autogluon.text) (2.26.0)\n",
      "Requirement already satisfied: tifffile>=2019.7.26 in /home/fernando/anaconda3/lib/python3.10/site-packages (from scikit-image<0.20.0,>=0.19.1->autogluon.multimodal==0.6.3b20230123->autogluon.text) (2021.7.2)\n",
      "Requirement already satisfied: threadpoolctl>=2.0.0 in /home/fernando/anaconda3/lib/python3.10/site-packages (from scikit-learn<1.2,>=1.0.0->autogluon.multimodal==0.6.3b20230123->autogluon.text) (2.2.0)\n",
      "Requirement already satisfied: nvidia-cudnn-cu11==8.5.0.96 in /home/fernando/anaconda3/lib/python3.10/site-packages (from torch<1.14,>=1.9->autogluon.multimodal==0.6.3b20230123->autogluon.text) (8.5.0.96)\n",
      "Requirement already satisfied: nvidia-cuda-runtime-cu11==11.7.99 in /home/fernando/anaconda3/lib/python3.10/site-packages (from torch<1.14,>=1.9->autogluon.multimodal==0.6.3b20230123->autogluon.text) (11.7.99)\n",
      "Requirement already satisfied: nvidia-cuda-nvrtc-cu11==11.7.99 in /home/fernando/anaconda3/lib/python3.10/site-packages (from torch<1.14,>=1.9->autogluon.multimodal==0.6.3b20230123->autogluon.text) (11.7.99)\n",
      "Requirement already satisfied: nvidia-cublas-cu11==11.10.3.66 in /home/fernando/anaconda3/lib/python3.10/site-packages (from torch<1.14,>=1.9->autogluon.multimodal==0.6.3b20230123->autogluon.text) (11.10.3.66)\n",
      "Requirement already satisfied: wheel in /home/fernando/anaconda3/lib/python3.10/site-packages (from nvidia-cublas-cu11==11.10.3.66->torch<1.14,>=1.9->autogluon.multimodal==0.6.3b20230123->autogluon.text) (0.38.4)\n",
      "Requirement already satisfied: pyDeprecate==0.3.* in /home/fernando/anaconda3/lib/python3.10/site-packages (from torchmetrics<0.9.0,>=0.8.0->autogluon.multimodal==0.6.3b20230123->autogluon.text) (0.3.2)\n",
      "Requirement already satisfied: filelock in /home/fernando/anaconda3/lib/python3.10/site-packages (from transformers<4.26.0,>=4.23.0->autogluon.multimodal==0.6.3b20230123->autogluon.text) (3.12.4)\n",
      "Requirement already satisfied: tokenizers!=0.11.3,<0.14,>=0.11.1 in /home/fernando/anaconda3/lib/python3.10/site-packages (from transformers<4.26.0,>=4.23.0->autogluon.multimodal==0.6.3b20230123->autogluon.text) (0.13.3)\n",
      "Requirement already satisfied: jmespath<2.0.0,>=0.7.1 in /home/fernando/anaconda3/lib/python3.10/site-packages (from boto3->autogluon.multimodal==0.6.3b20230123->autogluon.text) (0.10.0)\n",
      "Requirement already satisfied: botocore<1.30.0,>=1.29.83 in /home/fernando/anaconda3/lib/python3.10/site-packages (from boto3->autogluon.multimodal==0.6.3b20230123->autogluon.text) (1.29.165)\n",
      "Requirement already satisfied: s3transfer<0.7.0,>=0.6.0 in /home/fernando/anaconda3/lib/python3.10/site-packages (from boto3->autogluon.multimodal==0.6.3b20230123->autogluon.text) (0.6.2)\n",
      "Requirement already satisfied: absl-py>=0.4 in /home/fernando/anaconda3/lib/python3.10/site-packages (from tensorboard->autogluon.multimodal==0.6.3b20230123->autogluon.text) (2.0.0)\n",
      "Requirement already satisfied: google-auth-oauthlib<2,>=0.5 in /home/fernando/anaconda3/lib/python3.10/site-packages (from tensorboard->autogluon.multimodal==0.6.3b20230123->autogluon.text) (1.1.0)\n",
      "Requirement already satisfied: werkzeug>=1.0.1 in /home/fernando/anaconda3/lib/python3.10/site-packages (from tensorboard->autogluon.multimodal==0.6.3b20230123->autogluon.text) (2.2.2)\n",
      "Requirement already satisfied: protobuf<4.24,>=3.19.6 in /home/fernando/anaconda3/lib/python3.10/site-packages (from tensorboard->autogluon.multimodal==0.6.3b20230123->autogluon.text) (3.20.2)\n",
      "Requirement already satisfied: google-auth<3,>=1.6.3 in /home/fernando/anaconda3/lib/python3.10/site-packages (from tensorboard->autogluon.multimodal==0.6.3b20230123->autogluon.text) (2.23.3)\n",
      "Requirement already satisfied: tensorboard-data-server<0.8.0,>=0.7.0 in /home/fernando/anaconda3/lib/python3.10/site-packages (from tensorboard->autogluon.multimodal==0.6.3b20230123->autogluon.text) (0.7.2)\n",
      "Requirement already satisfied: six>1.9 in /home/fernando/anaconda3/lib/python3.10/site-packages (from tensorboard->autogluon.multimodal==0.6.3b20230123->autogluon.text) (1.16.0)\n",
      "Requirement already satisfied: markdown>=2.6.8 in /home/fernando/anaconda3/lib/python3.10/site-packages (from tensorboard->autogluon.multimodal==0.6.3b20230123->autogluon.text) (3.3.6)\n",
      "Requirement already satisfied: grpcio>=1.48.2 in /home/fernando/anaconda3/lib/python3.10/site-packages (from tensorboard->autogluon.multimodal==0.6.3b20230123->autogluon.text) (1.50.0)\n",
      "Requirement already satisfied: partd>=0.3.10 in /home/fernando/anaconda3/lib/python3.10/site-packages (from dask<=2021.11.2,>=2021.09.1->autogluon.core[raytune]==0.6.3b20230123->autogluon.multimodal==0.6.3b20230123->autogluon.text) (1.2.0)\n",
      "Requirement already satisfied: cloudpickle>=1.1.1 in /home/fernando/anaconda3/lib/python3.10/site-packages (from dask<=2021.11.2,>=2021.09.1->autogluon.core[raytune]==0.6.3b20230123->autogluon.multimodal==0.6.3b20230123->autogluon.text) (2.0.0)\n",
      "Requirement already satisfied: toolz>=0.8.2 in /home/fernando/anaconda3/lib/python3.10/site-packages (from dask<=2021.11.2,>=2021.09.1->autogluon.core[raytune]==0.6.3b20230123->autogluon.multimodal==0.6.3b20230123->autogluon.text) (0.12.0)\n",
      "Requirement already satisfied: aiohttp in /home/fernando/anaconda3/lib/python3.10/site-packages (from datasets>=2.0.0->evaluate<=0.3.0->autogluon.multimodal==0.6.3b20230123->autogluon.text) (3.8.6)\n",
      "Requirement already satisfied: pyarrow>=8.0.0 in /home/fernando/anaconda3/lib/python3.10/site-packages (from datasets>=2.0.0->evaluate<=0.3.0->autogluon.multimodal==0.6.3b20230123->autogluon.text) (13.0.0)\n",
      "Requirement already satisfied: sortedcontainers!=2.0.0,!=2.0.1 in /home/fernando/anaconda3/lib/python3.10/site-packages (from distributed<=2021.11.2,>=2021.09.1->autogluon.core[raytune]==0.6.3b20230123->autogluon.multimodal==0.6.3b20230123->autogluon.text) (2.4.0)\n",
      "Requirement already satisfied: jinja2 in /home/fernando/anaconda3/lib/python3.10/site-packages (from distributed<=2021.11.2,>=2021.09.1->autogluon.core[raytune]==0.6.3b20230123->autogluon.multimodal==0.6.3b20230123->autogluon.text) (3.1.2)\n",
      "Requirement already satisfied: tblib>=1.6.0 in /home/fernando/anaconda3/lib/python3.10/site-packages (from distributed<=2021.11.2,>=2021.09.1->autogluon.core[raytune]==0.6.3b20230123->autogluon.multimodal==0.6.3b20230123->autogluon.text) (1.7.0)\n",
      "Requirement already satisfied: zict>=0.1.3 in /home/fernando/anaconda3/lib/python3.10/site-packages (from distributed<=2021.11.2,>=2021.09.1->autogluon.core[raytune]==0.6.3b20230123->autogluon.multimodal==0.6.3b20230123->autogluon.text) (3.0.0)\n",
      "Requirement already satisfied: msgpack>=0.6.0 in /home/fernando/anaconda3/lib/python3.10/site-packages (from distributed<=2021.11.2,>=2021.09.1->autogluon.core[raytune]==0.6.3b20230123->autogluon.multimodal==0.6.3b20230123->autogluon.text) (1.0.3)\n",
      "Requirement already satisfied: tornado>=6.0.3 in /home/fernando/anaconda3/lib/python3.10/site-packages (from distributed<=2021.11.2,>=2021.09.1->autogluon.core[raytune]==0.6.3b20230123->autogluon.multimodal==0.6.3b20230123->autogluon.text) (6.1)\n",
      "Requirement already satisfied: pyasn1-modules>=0.2.1 in /home/fernando/anaconda3/lib/python3.10/site-packages (from google-auth<3,>=1.6.3->tensorboard->autogluon.multimodal==0.6.3b20230123->autogluon.text) (0.2.8)\n",
      "Requirement already satisfied: rsa<5,>=3.1.4 in /home/fernando/anaconda3/lib/python3.10/site-packages (from google-auth<3,>=1.6.3->tensorboard->autogluon.multimodal==0.6.3b20230123->autogluon.text) (4.9)\n",
      "Requirement already satisfied: cachetools<6.0,>=2.0.0 in /home/fernando/anaconda3/lib/python3.10/site-packages (from google-auth<3,>=1.6.3->tensorboard->autogluon.multimodal==0.6.3b20230123->autogluon.text) (5.3.2)\n",
      "Requirement already satisfied: requests-oauthlib>=0.7.0 in /home/fernando/anaconda3/lib/python3.10/site-packages (from google-auth-oauthlib<2,>=0.5->tensorboard->autogluon.multimodal==0.6.3b20230123->autogluon.text) (1.3.1)\n"
     ]
    },
    {
     "name": "stdout",
     "output_type": "stream",
     "text": [
      "Requirement already satisfied: future in /home/fernando/anaconda3/lib/python3.10/site-packages (from hyperopt<0.2.8,>=0.2.7->autogluon.core[raytune]==0.6.3b20230123->autogluon.multimodal==0.6.3b20230123->autogluon.text) (0.18.3)\n",
      "Requirement already satisfied: py4j in /home/fernando/anaconda3/lib/python3.10/site-packages (from hyperopt<0.2.8,>=0.2.7->autogluon.core[raytune]==0.6.3b20230123->autogluon.multimodal==0.6.3b20230123->autogluon.text) (0.10.9.7)\n",
      "Requirement already satisfied: frozenlist in /home/fernando/anaconda3/lib/python3.10/site-packages (from ray[tune]<2.3,>=2.2->autogluon.core[raytune]==0.6.3b20230123->autogluon.multimodal==0.6.3b20230123->autogluon.text) (1.4.0)\n",
      "Requirement already satisfied: aiosignal in /home/fernando/anaconda3/lib/python3.10/site-packages (from ray[tune]<2.3,>=2.2->autogluon.core[raytune]==0.6.3b20230123->autogluon.multimodal==0.6.3b20230123->autogluon.text) (1.3.1)\n",
      "Requirement already satisfied: virtualenv>=20.0.24 in /home/fernando/anaconda3/lib/python3.10/site-packages (from ray[tune]<2.3,>=2.2->autogluon.core[raytune]==0.6.3b20230123->autogluon.multimodal==0.6.3b20230123->autogluon.text) (20.24.6)\n",
      "Requirement already satisfied: tensorboardX>=1.9 in /home/fernando/anaconda3/lib/python3.10/site-packages (from ray[tune]<2.3,>=2.2->autogluon.core[raytune]==0.6.3b20230123->autogluon.multimodal==0.6.3b20230123->autogluon.text) (2.6.2.2)\n",
      "Requirement already satisfied: MarkupSafe>=2.1.1 in /home/fernando/anaconda3/lib/python3.10/site-packages (from werkzeug>=1.0.1->tensorboard->autogluon.multimodal==0.6.3b20230123->autogluon.text) (2.1.1)\n",
      "Requirement already satisfied: pyparsing>=2.3.1 in /home/fernando/anaconda3/lib/python3.10/site-packages (from matplotlib->autogluon.core[raytune]==0.6.3b20230123->autogluon.multimodal==0.6.3b20230123->autogluon.text) (3.0.9)\n",
      "Requirement already satisfied: cycler>=0.10 in /home/fernando/anaconda3/lib/python3.10/site-packages (from matplotlib->autogluon.core[raytune]==0.6.3b20230123->autogluon.multimodal==0.6.3b20230123->autogluon.text) (0.11.0)\n",
      "Requirement already satisfied: contourpy>=1.0.1 in /home/fernando/anaconda3/lib/python3.10/site-packages (from matplotlib->autogluon.core[raytune]==0.6.3b20230123->autogluon.multimodal==0.6.3b20230123->autogluon.text) (1.0.5)\n",
      "Requirement already satisfied: kiwisolver>=1.0.1 in /home/fernando/anaconda3/lib/python3.10/site-packages (from matplotlib->autogluon.core[raytune]==0.6.3b20230123->autogluon.multimodal==0.6.3b20230123->autogluon.text) (1.4.4)\n",
      "Requirement already satisfied: fonttools>=4.22.0 in /home/fernando/anaconda3/lib/python3.10/site-packages (from matplotlib->autogluon.core[raytune]==0.6.3b20230123->autogluon.multimodal==0.6.3b20230123->autogluon.text) (4.25.0)\n",
      "Requirement already satisfied: ordered-set in /home/fernando/anaconda3/lib/python3.10/site-packages (from model-index->openmim<=0.2.1,>0.1.5->autogluon.multimodal==0.6.3b20230123->autogluon.text) (4.1.0)\n",
      "Requirement already satisfied: pygments<3.0.0,>=2.13.0 in /home/fernando/anaconda3/lib/python3.10/site-packages (from rich->openmim<=0.2.1,>0.1.5->autogluon.multimodal==0.6.3b20230123->autogluon.text) (2.15.1)\n",
      "Requirement already satisfied: markdown-it-py>=2.2.0 in /home/fernando/anaconda3/lib/python3.10/site-packages (from rich->openmim<=0.2.1,>0.1.5->autogluon.multimodal==0.6.3b20230123->autogluon.text) (3.0.0)\n",
      "Requirement already satisfied: yarl<2.0,>=1.0 in /home/fernando/anaconda3/lib/python3.10/site-packages (from aiohttp->datasets>=2.0.0->evaluate<=0.3.0->autogluon.multimodal==0.6.3b20230123->autogluon.text) (1.9.2)\n",
      "Requirement already satisfied: multidict<7.0,>=4.5 in /home/fernando/anaconda3/lib/python3.10/site-packages (from aiohttp->datasets>=2.0.0->evaluate<=0.3.0->autogluon.multimodal==0.6.3b20230123->autogluon.text) (6.0.4)\n",
      "Requirement already satisfied: async-timeout<5.0,>=4.0.0a3 in /home/fernando/anaconda3/lib/python3.10/site-packages (from aiohttp->datasets>=2.0.0->evaluate<=0.3.0->autogluon.multimodal==0.6.3b20230123->autogluon.text) (4.0.3)\n",
      "Requirement already satisfied: mdurl~=0.1 in /home/fernando/anaconda3/lib/python3.10/site-packages (from markdown-it-py>=2.2.0->rich->openmim<=0.2.1,>0.1.5->autogluon.multimodal==0.6.3b20230123->autogluon.text) (0.1.2)\n",
      "Requirement already satisfied: locket in /home/fernando/anaconda3/lib/python3.10/site-packages (from partd>=0.3.10->dask<=2021.11.2,>=2021.09.1->autogluon.core[raytune]==0.6.3b20230123->autogluon.multimodal==0.6.3b20230123->autogluon.text) (1.0.0)\n",
      "Requirement already satisfied: pyasn1<0.5.0,>=0.4.6 in /home/fernando/anaconda3/lib/python3.10/site-packages (from pyasn1-modules>=0.2.1->google-auth<3,>=1.6.3->tensorboard->autogluon.multimodal==0.6.3b20230123->autogluon.text) (0.4.8)\n",
      "Requirement already satisfied: oauthlib>=3.0.0 in /home/fernando/anaconda3/lib/python3.10/site-packages (from requests-oauthlib>=0.7.0->google-auth-oauthlib<2,>=0.5->tensorboard->autogluon.multimodal==0.6.3b20230123->autogluon.text) (3.2.2)\n",
      "Requirement already satisfied: platformdirs<4,>=3.9.1 in /home/fernando/anaconda3/lib/python3.10/site-packages (from virtualenv>=20.0.24->ray[tune]<2.3,>=2.2->autogluon.core[raytune]==0.6.3b20230123->autogluon.multimodal==0.6.3b20230123->autogluon.text) (3.11.0)\n",
      "Requirement already satisfied: distlib<1,>=0.3.7 in /home/fernando/anaconda3/lib/python3.10/site-packages (from virtualenv>=20.0.24->ray[tune]<2.3,>=2.2->autogluon.core[raytune]==0.6.3b20230123->autogluon.multimodal==0.6.3b20230123->autogluon.text) (0.3.7)\n",
      "Installing collected packages: networkx, jsonschema, scikit-learn, ray, dask, openmim, distributed, torchmetrics, timm, autogluon.common, autogluon.features, autogluon.core, autogluon.multimodal\n",
      "  Attempting uninstall: networkx\n",
      "    Found existing installation: networkx 3.2.1\n",
      "    Uninstalling networkx-3.2.1:\n",
      "      Successfully uninstalled networkx-3.2.1\n",
      "  Attempting uninstall: jsonschema\n",
      "    Found existing installation: jsonschema 4.17.3\n",
      "    Uninstalling jsonschema-4.17.3:\n",
      "      Successfully uninstalled jsonschema-4.17.3\n",
      "  Attempting uninstall: scikit-learn\n",
      "    Found existing installation: scikit-learn 1.2.2\n",
      "    Uninstalling scikit-learn-1.2.2:\n",
      "      Successfully uninstalled scikit-learn-1.2.2\n",
      "  Attempting uninstall: ray\n",
      "    Found existing installation: ray 2.3.1\n",
      "    Uninstalling ray-2.3.1:\n",
      "      Successfully uninstalled ray-2.3.1\n",
      "  Attempting uninstall: dask\n",
      "    Found existing installation: dask 2023.10.1\n",
      "    Uninstalling dask-2023.10.1:\n",
      "      Successfully uninstalled dask-2023.10.1\n",
      "  Attempting uninstall: openmim\n",
      "    Found existing installation: openmim 0.3.9\n",
      "    Uninstalling openmim-0.3.9:\n",
      "      Successfully uninstalled openmim-0.3.9\n",
      "  Attempting uninstall: distributed\n",
      "    Found existing installation: distributed 2023.10.1\n",
      "    Uninstalling distributed-2023.10.1:\n",
      "      Successfully uninstalled distributed-2023.10.1\n",
      "  Attempting uninstall: torchmetrics\n",
      "    Found existing installation: torchmetrics 0.11.4\n",
      "    Uninstalling torchmetrics-0.11.4:\n",
      "      Successfully uninstalled torchmetrics-0.11.4\n",
      "  Attempting uninstall: timm\n",
      "    Found existing installation: timm 0.9.11\n",
      "    Uninstalling timm-0.9.11:\n",
      "      Successfully uninstalled timm-0.9.11\n",
      "  Attempting uninstall: autogluon.common\n",
      "    Found existing installation: autogluon.common 0.8.2\n",
      "    Uninstalling autogluon.common-0.8.2:\n",
      "      Successfully uninstalled autogluon.common-0.8.2\n",
      "  Attempting uninstall: autogluon.features\n",
      "    Found existing installation: autogluon.features 0.8.2\n",
      "    Uninstalling autogluon.features-0.8.2:\n",
      "      Successfully uninstalled autogluon.features-0.8.2\n",
      "  Attempting uninstall: autogluon.core\n",
      "    Found existing installation: autogluon.core 0.8.2\n",
      "    Uninstalling autogluon.core-0.8.2:\n",
      "      Successfully uninstalled autogluon.core-0.8.2\n",
      "  Attempting uninstall: autogluon.multimodal\n",
      "    Found existing installation: autogluon.multimodal 0.8.2\n",
      "    Uninstalling autogluon.multimodal-0.8.2:\n",
      "      Successfully uninstalled autogluon.multimodal-0.8.2\n",
      "\u001b[31mERROR: pip's dependency resolver does not currently take into account all the packages that are installed. This behaviour is the source of the following dependency conflicts.\n",
      "spyder 5.4.1 requires pyqt5<5.16, which is not installed.\n",
      "spyder 5.4.1 requires pyqtwebengine<5.16, which is not installed.\n",
      "conda-repo-cli 1.0.41 requires requests_mock, which is not installed.\n",
      "pyldavis 3.4.1 requires numpy>=1.24.2, but you have numpy 1.23.5 which is incompatible.\n",
      "pyldavis 3.4.1 requires pandas>=2.0.0, but you have pandas 1.5.3 which is incompatible.\n",
      "jupyterlab-server 2.19.0 requires jsonschema>=4.17.3, but you have jsonschema 4.8.0 which is incompatible.\n",
      "conda-repo-cli 1.0.41 requires clyent==1.2.1, but you have clyent 1.2.2 which is incompatible.\n",
      "conda-repo-cli 1.0.41 requires nbformat==5.4.0, but you have nbformat 5.7.0 which is incompatible.\n",
      "conda-repo-cli 1.0.41 requires requests==2.28.1, but you have requests 2.28.2 which is incompatible.\n",
      "autogluon-timeseries 0.8.2 requires autogluon.common==0.8.2, but you have autogluon-common 0.6.3b20230123 which is incompatible.\n",
      "autogluon-timeseries 0.8.2 requires autogluon.core[raytune]==0.8.2, but you have autogluon-core 0.6.3b20230123 which is incompatible.\n",
      "autogluon-timeseries 0.8.2 requires networkx<4,>=3.0, but you have networkx 2.8.8 which is incompatible.\n",
      "autogluon-tabular 0.8.2 requires autogluon.core==0.8.2, but you have autogluon-core 0.6.3b20230123 which is incompatible.\n",
      "autogluon-tabular 0.8.2 requires autogluon.features==0.8.2, but you have autogluon-features 0.6.3b20230123 which is incompatible.\n",
      "autogluon-tabular 0.8.2 requires networkx<4,>=3.0, but you have networkx 2.8.8 which is incompatible.\n",
      "autogluon 0.8.2 requires autogluon.core[all]==0.8.2, but you have autogluon-core 0.6.3b20230123 which is incompatible.\n",
      "autogluon 0.8.2 requires autogluon.features==0.8.2, but you have autogluon-features 0.6.3b20230123 which is incompatible.\n",
      "autogluon 0.8.2 requires autogluon.multimodal==0.8.2, but you have autogluon-multimodal 0.6.3b20230123 which is incompatible.\n",
      "auto-sklearn 0.15.0 requires dask>=2021.12, but you have dask 2021.11.2 which is incompatible.\n",
      "auto-sklearn 0.15.0 requires scikit-learn<0.25.0,>=0.24.0, but you have scikit-learn 1.1.3 which is incompatible.\u001b[0m\u001b[31m\n",
      "\u001b[0mSuccessfully installed autogluon.common-0.6.3b20230123 autogluon.core-0.6.3b20230123 autogluon.features-0.6.3b20230123 autogluon.multimodal-0.6.3b20230123 dask-2021.11.2 distributed-2021.11.2 jsonschema-4.8.0 networkx-2.8.8 openmim-0.2.1 ray-2.2.0 scikit-learn-1.1.3 timm-0.6.13 torchmetrics-0.8.2\n"
     ]
    },
    {
     "name": "stdout",
     "output_type": "stream",
     "text": [
      "Note: you may need to restart the kernel to use updated packages.\n"
     ]
    }
   ],
   "source": [
    "%pip install autogluon\n",
    "%pip install autogluon.text"
   ]
  },
  {
   "cell_type": "markdown",
   "id": "45b133e3",
   "metadata": {},
   "source": [
    "# Load datasets"
   ]
  },
  {
   "cell_type": "code",
   "execution_count": 1,
   "id": "47e62de4",
   "metadata": {
    "scrolled": false
   },
   "outputs": [
    {
     "name": "stderr",
     "output_type": "stream",
     "text": [
      "/tmp/ipykernel_12489/1712828737.py:5: DtypeWarning: Columns (2) have mixed types. Specify dtype option on import or set low_memory=False.\n",
      "  df_b2w = pd.read_csv('../datasets/B2W-Reviews01.csv')\n"
     ]
    },
    {
     "data": {
      "text/html": [
       "<div>\n",
       "<style scoped>\n",
       "    .dataframe tbody tr th:only-of-type {\n",
       "        vertical-align: middle;\n",
       "    }\n",
       "\n",
       "    .dataframe tbody tr th {\n",
       "        vertical-align: top;\n",
       "    }\n",
       "\n",
       "    .dataframe thead th {\n",
       "        text-align: right;\n",
       "    }\n",
       "</style>\n",
       "<table border=\"1\" class=\"dataframe\">\n",
       "  <thead>\n",
       "    <tr style=\"text-align: right;\">\n",
       "      <th></th>\n",
       "      <th>prep</th>\n",
       "      <th>overall_rating</th>\n",
       "    </tr>\n",
       "  </thead>\n",
       "  <tbody>\n",
       "    <tr>\n",
       "      <th>0</th>\n",
       "      <td>Estou contente com a compra entrega rápida o ú...</td>\n",
       "      <td>good</td>\n",
       "    </tr>\n",
       "    <tr>\n",
       "      <th>1</th>\n",
       "      <td>Por apenas R$1994.20,eu consegui comprar esse ...</td>\n",
       "      <td>good</td>\n",
       "    </tr>\n",
       "    <tr>\n",
       "      <th>2</th>\n",
       "      <td>SUPERA EM AGILIDADE E PRATICIDADE OUTRAS PANEL...</td>\n",
       "      <td>good</td>\n",
       "    </tr>\n",
       "    <tr>\n",
       "      <th>3</th>\n",
       "      <td>MEU FILHO AMOU! PARECE DE VERDADE COM TANTOS D...</td>\n",
       "      <td>good</td>\n",
       "    </tr>\n",
       "    <tr>\n",
       "      <th>4</th>\n",
       "      <td>A entrega foi no prazo, as americanas estão de...</td>\n",
       "      <td>good</td>\n",
       "    </tr>\n",
       "    <tr>\n",
       "      <th>...</th>\n",
       "      <td>...</td>\n",
       "      <td>...</td>\n",
       "    </tr>\n",
       "    <tr>\n",
       "      <th>132368</th>\n",
       "      <td>Vale muito, estou usando no controle do Xbox e...</td>\n",
       "      <td>good</td>\n",
       "    </tr>\n",
       "    <tr>\n",
       "      <th>132369</th>\n",
       "      <td>Prático e barato, super indico o produto para ...</td>\n",
       "      <td>good</td>\n",
       "    </tr>\n",
       "    <tr>\n",
       "      <th>132370</th>\n",
       "      <td>Chegou antes do prazo previsto e corresponde a...</td>\n",
       "      <td>good</td>\n",
       "    </tr>\n",
       "    <tr>\n",
       "      <th>132371</th>\n",
       "      <td>Material fraco, poderia ser melhor. Ficou deve...</td>\n",
       "      <td>bad</td>\n",
       "    </tr>\n",
       "    <tr>\n",
       "      <th>132372</th>\n",
       "      <td>Comprei esse produto, quando chegou estava com...</td>\n",
       "      <td>bad</td>\n",
       "    </tr>\n",
       "  </tbody>\n",
       "</table>\n",
       "<p>132373 rows × 2 columns</p>\n",
       "</div>"
      ],
      "text/plain": [
       "                                                     prep overall_rating\n",
       "0       Estou contente com a compra entrega rápida o ú...           good\n",
       "1       Por apenas R$1994.20,eu consegui comprar esse ...           good\n",
       "2       SUPERA EM AGILIDADE E PRATICIDADE OUTRAS PANEL...           good\n",
       "3       MEU FILHO AMOU! PARECE DE VERDADE COM TANTOS D...           good\n",
       "4       A entrega foi no prazo, as americanas estão de...           good\n",
       "...                                                   ...            ...\n",
       "132368  Vale muito, estou usando no controle do Xbox e...           good\n",
       "132369  Prático e barato, super indico o produto para ...           good\n",
       "132370  Chegou antes do prazo previsto e corresponde a...           good\n",
       "132371  Material fraco, poderia ser melhor. Ficou deve...            bad\n",
       "132372  Comprei esse produto, quando chegou estava com...            bad\n",
       "\n",
       "[132373 rows x 2 columns]"
      ]
     },
     "metadata": {},
     "output_type": "display_data"
    }
   ],
   "source": [
    "import pandas as pd\n",
    "from sklearn.model_selection import train_test_split\n",
    "\n",
    "#B2W Reviews\n",
    "df_b2w = pd.read_csv('../datasets/B2W-Reviews01.csv')\n",
    "\n",
    "# Define the mapping of values\n",
    "rating_mapping = {\n",
    "    1: 'bad',\n",
    "    2: 'bad',\n",
    "    3: 'bad',\n",
    "    4: 'good',\n",
    "    5: 'good'\n",
    "}\n",
    "\n",
    "# Replace values in the \"overall_rating\" column\n",
    "df_b2w['overall_rating'] = df_b2w['overall_rating'].replace(rating_mapping)\n",
    "\n",
    "df_b2w = df_b2w[['review_text', 'overall_rating']]\n",
    "\n",
    "df_b2w.rename(columns={'review_text': 'prep'},\n",
    "              inplace=True, errors='raise')\n",
    "\n",
    "X_train_b2w, X_test_b2w, y_train_b2w, y_test_b2w = train_test_split(df_b2w['prep'], df_b2w['overall_rating'],\n",
    "                                                    train_size=0.75, test_size=0.25, random_state=42)\n",
    "\n",
    "X_train_all_b2w = pd.concat([X_train_b2w, y_train_b2w], axis=1)\n",
    "X_test_all_b2w = pd.concat([X_test_b2w, y_test_b2w], axis=1)\n",
    "\n",
    "display(df_b2w)"
   ]
  },
  {
   "cell_type": "code",
   "execution_count": 2,
   "id": "dfbd6df3",
   "metadata": {
    "scrolled": false
   },
   "outputs": [
    {
     "name": "stderr",
     "output_type": "stream",
     "text": [
      "/tmp/ipykernel_12489/715069563.py:1: DtypeWarning: Columns (15,16) have mixed types. Specify dtype option on import or set low_memory=False.\n",
      "  df_covid = pd.read_csv('../datasets/covid.csv')\n"
     ]
    },
    {
     "data": {
      "text/html": [
       "<div>\n",
       "<style scoped>\n",
       "    .dataframe tbody tr th:only-of-type {\n",
       "        vertical-align: middle;\n",
       "    }\n",
       "\n",
       "    .dataframe tbody tr th {\n",
       "        vertical-align: top;\n",
       "    }\n",
       "\n",
       "    .dataframe thead th {\n",
       "        text-align: right;\n",
       "    }\n",
       "</style>\n",
       "<table border=\"1\" class=\"dataframe\">\n",
       "  <thead>\n",
       "    <tr style=\"text-align: right;\">\n",
       "      <th></th>\n",
       "      <th>prep</th>\n",
       "      <th>Sentiment</th>\n",
       "    </tr>\n",
       "  </thead>\n",
       "  <tbody>\n",
       "    <tr>\n",
       "      <th>0</th>\n",
       "      <td>@MeNyrbie @Phil_Gahan @Chrisitv https://t.co/i...</td>\n",
       "      <td>Neutral</td>\n",
       "    </tr>\n",
       "    <tr>\n",
       "      <th>1</th>\n",
       "      <td>advice Talk to your neighbours family to excha...</td>\n",
       "      <td>Positive</td>\n",
       "    </tr>\n",
       "    <tr>\n",
       "      <th>2</th>\n",
       "      <td>Coronavirus Australia: Woolworths to give elde...</td>\n",
       "      <td>Positive</td>\n",
       "    </tr>\n",
       "    <tr>\n",
       "      <th>3</th>\n",
       "      <td>My food stock is not the only one which is emp...</td>\n",
       "      <td>Positive</td>\n",
       "    </tr>\n",
       "    <tr>\n",
       "      <th>4</th>\n",
       "      <td>Me, ready to go at supermarket during the #COV...</td>\n",
       "      <td>Extremely Negative</td>\n",
       "    </tr>\n",
       "    <tr>\n",
       "      <th>...</th>\n",
       "      <td>...</td>\n",
       "      <td>...</td>\n",
       "    </tr>\n",
       "    <tr>\n",
       "      <th>44951</th>\n",
       "      <td>Meanwhile In A Supermarket in Israel -- People...</td>\n",
       "      <td>Positive</td>\n",
       "    </tr>\n",
       "    <tr>\n",
       "      <th>44952</th>\n",
       "      <td>Did you panic buy a lot of non-perishable item...</td>\n",
       "      <td>Negative</td>\n",
       "    </tr>\n",
       "    <tr>\n",
       "      <th>44953</th>\n",
       "      <td>Asst Prof of Economics @cconces was on @NBCPhi...</td>\n",
       "      <td>Neutral</td>\n",
       "    </tr>\n",
       "    <tr>\n",
       "      <th>44954</th>\n",
       "      <td>Gov need to do somethings instead of biar je r...</td>\n",
       "      <td>Extremely Negative</td>\n",
       "    </tr>\n",
       "    <tr>\n",
       "      <th>44955</th>\n",
       "      <td>I and @ForestandPaper members are committed to...</td>\n",
       "      <td>Extremely Positive</td>\n",
       "    </tr>\n",
       "  </tbody>\n",
       "</table>\n",
       "<p>44106 rows × 2 columns</p>\n",
       "</div>"
      ],
      "text/plain": [
       "                                                    prep           Sentiment\n",
       "0      @MeNyrbie @Phil_Gahan @Chrisitv https://t.co/i...             Neutral\n",
       "1      advice Talk to your neighbours family to excha...            Positive\n",
       "2      Coronavirus Australia: Woolworths to give elde...            Positive\n",
       "3      My food stock is not the only one which is emp...            Positive\n",
       "4      Me, ready to go at supermarket during the #COV...  Extremely Negative\n",
       "...                                                  ...                 ...\n",
       "44951  Meanwhile In A Supermarket in Israel -- People...            Positive\n",
       "44952  Did you panic buy a lot of non-perishable item...            Negative\n",
       "44953  Asst Prof of Economics @cconces was on @NBCPhi...             Neutral\n",
       "44954  Gov need to do somethings instead of biar je r...  Extremely Negative\n",
       "44955  I and @ForestandPaper members are committed to...  Extremely Positive\n",
       "\n",
       "[44106 rows x 2 columns]"
      ]
     },
     "metadata": {},
     "output_type": "display_data"
    }
   ],
   "source": [
    "df_covid = pd.read_csv('../datasets/covid.csv')\n",
    "df_covid = df_covid[['OriginalTweet', 'Sentiment']]\n",
    "\n",
    "valid_sentiments = ['Positive', 'Negative', 'Neutral', 'Extremely Positive', 'Extremely Negative']\n",
    "df_covid = df_covid[df_covid['Sentiment'].isin(valid_sentiments)]\n",
    "\n",
    "df_covid.rename(columns={'OriginalTweet': 'prep'},\n",
    "                inplace=True, errors='raise')\n",
    "\n",
    "X_train_covid, X_test_covid, y_train_covid, y_test_covid = train_test_split(df_covid['prep'], \n",
    "                                                                            df_covid['Sentiment'],\n",
    "                                                    train_size=0.75, test_size=0.25, random_state=42)\n",
    "\n",
    "X_train_all_covid = pd.concat([X_train_covid, y_train_covid], axis=1)\n",
    "X_test_all_covid = pd.concat([X_test_covid, y_test_covid], axis=1)\n",
    "\n",
    "display(df_covid)"
   ]
  },
  {
   "cell_type": "code",
   "execution_count": 3,
   "id": "46c6a1d2",
   "metadata": {
    "scrolled": true
   },
   "outputs": [
    {
     "data": {
      "text/html": [
       "<div>\n",
       "<style scoped>\n",
       "    .dataframe tbody tr th:only-of-type {\n",
       "        vertical-align: middle;\n",
       "    }\n",
       "\n",
       "    .dataframe tbody tr th {\n",
       "        vertical-align: top;\n",
       "    }\n",
       "\n",
       "    .dataframe thead th {\n",
       "        text-align: right;\n",
       "    }\n",
       "</style>\n",
       "<table border=\"1\" class=\"dataframe\">\n",
       "  <thead>\n",
       "    <tr style=\"text-align: right;\">\n",
       "      <th></th>\n",
       "      <th>prep</th>\n",
       "      <th>Computer Science</th>\n",
       "    </tr>\n",
       "  </thead>\n",
       "  <tbody>\n",
       "    <tr>\n",
       "      <th>0</th>\n",
       "      <td>Predictive models allow subject-specific inf...</td>\n",
       "      <td>1</td>\n",
       "    </tr>\n",
       "    <tr>\n",
       "      <th>1</th>\n",
       "      <td>Rotation invariance and translation invarian...</td>\n",
       "      <td>1</td>\n",
       "    </tr>\n",
       "    <tr>\n",
       "      <th>2</th>\n",
       "      <td>We introduce and develop the notion of spher...</td>\n",
       "      <td>0</td>\n",
       "    </tr>\n",
       "    <tr>\n",
       "      <th>3</th>\n",
       "      <td>The stochastic Landau--Lifshitz--Gilbert (LL...</td>\n",
       "      <td>0</td>\n",
       "    </tr>\n",
       "    <tr>\n",
       "      <th>4</th>\n",
       "      <td>Fourier-transform infra-red (FTIR) spectra o...</td>\n",
       "      <td>1</td>\n",
       "    </tr>\n",
       "    <tr>\n",
       "      <th>...</th>\n",
       "      <td>...</td>\n",
       "      <td>...</td>\n",
       "    </tr>\n",
       "    <tr>\n",
       "      <th>20967</th>\n",
       "      <td>Machine learning is finding increasingly bro...</td>\n",
       "      <td>1</td>\n",
       "    </tr>\n",
       "    <tr>\n",
       "      <th>20968</th>\n",
       "      <td>Polycrystalline diamond coatings have been g...</td>\n",
       "      <td>0</td>\n",
       "    </tr>\n",
       "    <tr>\n",
       "      <th>20969</th>\n",
       "      <td>We present a new approach for identifying si...</td>\n",
       "      <td>1</td>\n",
       "    </tr>\n",
       "    <tr>\n",
       "      <th>20970</th>\n",
       "      <td>The sum of Log-normal variates is encountere...</td>\n",
       "      <td>0</td>\n",
       "    </tr>\n",
       "    <tr>\n",
       "      <th>20971</th>\n",
       "      <td>Recently, optional stopping has been a subje...</td>\n",
       "      <td>0</td>\n",
       "    </tr>\n",
       "  </tbody>\n",
       "</table>\n",
       "<p>20972 rows × 2 columns</p>\n",
       "</div>"
      ],
      "text/plain": [
       "                                                    prep  Computer Science\n",
       "0        Predictive models allow subject-specific inf...                 1\n",
       "1        Rotation invariance and translation invarian...                 1\n",
       "2        We introduce and develop the notion of spher...                 0\n",
       "3        The stochastic Landau--Lifshitz--Gilbert (LL...                 0\n",
       "4        Fourier-transform infra-red (FTIR) spectra o...                 1\n",
       "...                                                  ...               ...\n",
       "20967    Machine learning is finding increasingly bro...                 1\n",
       "20968    Polycrystalline diamond coatings have been g...                 0\n",
       "20969    We present a new approach for identifying si...                 1\n",
       "20970    The sum of Log-normal variates is encountere...                 0\n",
       "20971    Recently, optional stopping has been a subje...                 0\n",
       "\n",
       "[20972 rows x 2 columns]"
      ]
     },
     "metadata": {},
     "output_type": "display_data"
    }
   ],
   "source": [
    "df_papers = pd.read_csv('../datasets/papers.csv')\n",
    "df_papers = df_papers[['ABSTRACT', 'Computer Science']]\n",
    "\n",
    "df_papers.rename(columns={'ABSTRACT': 'prep'},\n",
    "                 inplace=True, errors='raise')\n",
    "\n",
    "X_train_papers, X_test_papers, y_train_papers, y_test_papers = train_test_split(df_papers['prep'], \n",
    "                                                                            df_papers['Computer Science'],\n",
    "                                                    train_size=0.75, test_size=0.25, random_state=42)\n",
    "\n",
    "X_train_all_papers = pd.concat([X_train_papers, y_train_papers], axis=1)\n",
    "X_test_all_papers = pd.concat([X_test_papers, y_test_papers], axis=1)\n",
    "\n",
    "display(df_papers)"
   ]
  },
  {
   "cell_type": "markdown",
   "id": "cdf8d2f6",
   "metadata": {},
   "source": [
    "# AutoML functions"
   ]
  },
  {
   "cell_type": "code",
   "execution_count": 4,
   "id": "e71a2730",
   "metadata": {},
   "outputs": [],
   "source": [
    "def autogluon_function(train, test, label):\n",
    "    from autogluon.text import TextPredictor\n",
    "\n",
    "    import time\n",
    "    start_time = time.time()\n",
    "    \n",
    "    predictor = TextPredictor(label=label)#, eval_metric='acc')#, path='./ag_sst')\n",
    "    predictor.fit(train, time_limit=1800) #Training for 30 minutes\n",
    "\n",
    "    #test_score = predictor.evaluate(test, metrics=['acc', 'f1'])\n",
    "    #print(test_score)\n",
    "\n",
    "    print(\"--- %s seconds ---\" % (time.time() - start_time))\n",
    "    \n",
    "    return predictor"
   ]
  },
  {
   "cell_type": "markdown",
   "id": "fb7c88c3",
   "metadata": {},
   "source": [
    "# AutoGluon"
   ]
  },
  {
   "cell_type": "markdown",
   "id": "d7e9dab4",
   "metadata": {},
   "source": [
    "### Reviews"
   ]
  },
  {
   "cell_type": "code",
   "execution_count": 14,
   "id": "26e1e846",
   "metadata": {
    "scrolled": true
   },
   "outputs": [
    {
     "name": "stderr",
     "output_type": "stream",
     "text": [
      "Global seed set to 123\n",
      "/home/fernando/anaconda3/lib/python3.10/site-packages/torchmetrics/utilities/prints.py:36: UserWarning: Metric `AUROC` will save all targets and predictions in buffer. For large datasets this may lead to large memory footprint.\n",
      "  warnings.warn(*args, **kwargs)\n",
      "/home/fernando/anaconda3/lib/python3.10/site-packages/pytorch_lightning/trainer/connectors/accelerator_connector.py:589: LightningDeprecationWarning: The Trainer argument `auto_select_gpus` has been deprecated in v1.9.0 and will be removed in v2.0.0. Please use the function `pytorch_lightning.accelerators.find_usable_cuda_devices` instead.\n",
      "  rank_zero_deprecation(\n",
      "Auto select gpus: [0]\n",
      "Using 16bit None Automatic Mixed Precision (AMP)\n",
      "GPU available: True (cuda), used: True\n",
      "TPU available: False, using: 0 TPU cores\n",
      "IPU available: False, using: 0 IPUs\n",
      "HPU available: False, using: 0 HPUs\n",
      "You are using a CUDA device ('NVIDIA GeForce RTX 4070 Ti') that has Tensor Cores. To properly utilize them, you should set `torch.set_float32_matmul_precision('medium' | 'high')` which will trade-off precision for performance. For more details, read https://pytorch.org/docs/stable/generated/torch.set_float32_matmul_precision.html#torch.set_float32_matmul_precision\n",
      "LOCAL_RANK: 0 - CUDA_VISIBLE_DEVICES: [0]\n",
      "\n",
      "  | Name              | Type                         | Params\n",
      "-------------------------------------------------------------------\n",
      "0 | model             | HFAutoModelForTextPrediction | 108 M \n",
      "1 | validation_metric | AUROC                        | 0     \n",
      "2 | loss_func         | CrossEntropyLoss             | 0     \n",
      "-------------------------------------------------------------------\n",
      "108 M     Trainable params\n",
      "0         Non-trainable params\n",
      "108 M     Total params\n",
      "217.786   Total estimated model params size (MB)\n"
     ]
    },
    {
     "data": {
      "application/vnd.jupyter.widget-view+json": {
       "model_id": "",
       "version_major": 2,
       "version_minor": 0
      },
      "text/plain": [
       "Sanity Checking: 0it [00:00, ?it/s]"
      ]
     },
     "metadata": {},
     "output_type": "display_data"
    },
    {
     "data": {
      "application/vnd.jupyter.widget-view+json": {
       "model_id": "e453d13d36de454694afa605d4bcb510",
       "version_major": 2,
       "version_minor": 0
      },
      "text/plain": [
       "Training: 0it [00:00, ?it/s]"
      ]
     },
     "metadata": {},
     "output_type": "display_data"
    },
    {
     "data": {
      "application/vnd.jupyter.widget-view+json": {
       "model_id": "",
       "version_major": 2,
       "version_minor": 0
      },
      "text/plain": [
       "Validation: 0it [00:00, ?it/s]"
      ]
     },
     "metadata": {},
     "output_type": "display_data"
    },
    {
     "name": "stderr",
     "output_type": "stream",
     "text": [
      "Epoch 0, global step 378: 'val_roc_auc' reached 0.93706 (best 0.93706), saving model to '/home/fernando/doutorado/text-automl/AutogluonModels/ag-20231123_140442/epoch=0-step=378.ckpt' as top 3\n",
      "/home/fernando/anaconda3/lib/python3.10/site-packages/pytorch_lightning/utilities/cloud_io.py:33: LightningDeprecationWarning: `pytorch_lightning.utilities.cloud_io.get_filesystem` has been deprecated in v1.8.0 and will be removed in v2.0.0. Please use `lightning_fabric.utilities.cloud_io.get_filesystem` instead.\n",
      "  rank_zero_deprecation(\n",
      "/home/fernando/anaconda3/lib/python3.10/site-packages/pytorch_lightning/utilities/cloud_io.py:25: LightningDeprecationWarning: `pytorch_lightning.utilities.cloud_io.atomic_save` has been deprecated in v1.8.0 and will be removed in v2.0.0. This function is internal but you can copy over its implementation.\n",
      "  rank_zero_deprecation(\n"
     ]
    },
    {
     "data": {
      "application/vnd.jupyter.widget-view+json": {
       "model_id": "",
       "version_major": 2,
       "version_minor": 0
      },
      "text/plain": [
       "Validation: 0it [00:00, ?it/s]"
      ]
     },
     "metadata": {},
     "output_type": "display_data"
    },
    {
     "name": "stderr",
     "output_type": "stream",
     "text": [
      "Epoch 0, global step 757: 'val_roc_auc' reached 0.94426 (best 0.94426), saving model to '/home/fernando/doutorado/text-automl/AutogluonModels/ag-20231123_140442/epoch=0-step=757.ckpt' as top 3\n"
     ]
    },
    {
     "data": {
      "application/vnd.jupyter.widget-view+json": {
       "model_id": "",
       "version_major": 2,
       "version_minor": 0
      },
      "text/plain": [
       "Validation: 0it [00:00, ?it/s]"
      ]
     },
     "metadata": {},
     "output_type": "display_data"
    },
    {
     "name": "stderr",
     "output_type": "stream",
     "text": [
      "Epoch 1, global step 1135: 'val_roc_auc' reached 0.94870 (best 0.94870), saving model to '/home/fernando/doutorado/text-automl/AutogluonModels/ag-20231123_140442/epoch=1-step=1135.ckpt' as top 3\n"
     ]
    },
    {
     "data": {
      "application/vnd.jupyter.widget-view+json": {
       "model_id": "",
       "version_major": 2,
       "version_minor": 0
      },
      "text/plain": [
       "Validation: 0it [00:00, ?it/s]"
      ]
     },
     "metadata": {},
     "output_type": "display_data"
    },
    {
     "name": "stderr",
     "output_type": "stream",
     "text": [
      "Epoch 1, global step 1514: 'val_roc_auc' reached 0.95134 (best 0.95134), saving model to '/home/fernando/doutorado/text-automl/AutogluonModels/ag-20231123_140442/epoch=1-step=1514.ckpt' as top 3\n"
     ]
    },
    {
     "data": {
      "application/vnd.jupyter.widget-view+json": {
       "model_id": "",
       "version_major": 2,
       "version_minor": 0
      },
      "text/plain": [
       "Validation: 0it [00:00, ?it/s]"
      ]
     },
     "metadata": {},
     "output_type": "display_data"
    },
    {
     "name": "stderr",
     "output_type": "stream",
     "text": [
      "Epoch 2, global step 1892: 'val_roc_auc' reached 0.95255 (best 0.95255), saving model to '/home/fernando/doutorado/text-automl/AutogluonModels/ag-20231123_140442/epoch=2-step=1892.ckpt' as top 3\n"
     ]
    },
    {
     "data": {
      "application/vnd.jupyter.widget-view+json": {
       "model_id": "",
       "version_major": 2,
       "version_minor": 0
      },
      "text/plain": [
       "Validation: 0it [00:00, ?it/s]"
      ]
     },
     "metadata": {},
     "output_type": "display_data"
    },
    {
     "name": "stderr",
     "output_type": "stream",
     "text": [
      "Epoch 2, global step 2271: 'val_roc_auc' reached 0.95311 (best 0.95311), saving model to '/home/fernando/doutorado/text-automl/AutogluonModels/ag-20231123_140442/epoch=2-step=2271.ckpt' as top 3\n"
     ]
    },
    {
     "data": {
      "application/vnd.jupyter.widget-view+json": {
       "model_id": "",
       "version_major": 2,
       "version_minor": 0
      },
      "text/plain": [
       "Validation: 0it [00:00, ?it/s]"
      ]
     },
     "metadata": {},
     "output_type": "display_data"
    },
    {
     "name": "stderr",
     "output_type": "stream",
     "text": [
      "Epoch 3, global step 2649: 'val_roc_auc' reached 0.95204 (best 0.95311), saving model to '/home/fernando/doutorado/text-automl/AutogluonModels/ag-20231123_140442/epoch=3-step=2649.ckpt' as top 3\n"
     ]
    },
    {
     "data": {
      "application/vnd.jupyter.widget-view+json": {
       "model_id": "",
       "version_major": 2,
       "version_minor": 0
      },
      "text/plain": [
       "Validation: 0it [00:00, ?it/s]"
      ]
     },
     "metadata": {},
     "output_type": "display_data"
    },
    {
     "name": "stderr",
     "output_type": "stream",
     "text": [
      "Epoch 3, global step 3028: 'val_roc_auc' reached 0.95315 (best 0.95315), saving model to '/home/fernando/doutorado/text-automl/AutogluonModels/ag-20231123_140442/epoch=3-step=3028.ckpt' as top 3\n"
     ]
    },
    {
     "data": {
      "application/vnd.jupyter.widget-view+json": {
       "model_id": "",
       "version_major": 2,
       "version_minor": 0
      },
      "text/plain": [
       "Validation: 0it [00:00, ?it/s]"
      ]
     },
     "metadata": {},
     "output_type": "display_data"
    },
    {
     "name": "stderr",
     "output_type": "stream",
     "text": [
      "Epoch 4, global step 3406: 'val_roc_auc' reached 0.95291 (best 0.95315), saving model to '/home/fernando/doutorado/text-automl/AutogluonModels/ag-20231123_140442/epoch=4-step=3406.ckpt' as top 3\n",
      "Time limit reached. Elapsed time is 0:30:00. Signaling Trainer to stop.\n"
     ]
    },
    {
     "data": {
      "application/vnd.jupyter.widget-view+json": {
       "model_id": "",
       "version_major": 2,
       "version_minor": 0
      },
      "text/plain": [
       "Validation: 0it [00:00, ?it/s]"
      ]
     },
     "metadata": {},
     "output_type": "display_data"
    },
    {
     "name": "stderr",
     "output_type": "stream",
     "text": [
      "Epoch 4, global step 3407: 'val_roc_auc' reached 0.95301 (best 0.95315), saving model to '/home/fernando/doutorado/text-automl/AutogluonModels/ag-20231123_140442/epoch=4-step=3407.ckpt' as top 3\n",
      "Global seed set to 123\n",
      "/home/fernando/anaconda3/lib/python3.10/site-packages/pytorch_lightning/trainer/connectors/accelerator_connector.py:589: LightningDeprecationWarning: The Trainer argument `auto_select_gpus` has been deprecated in v1.9.0 and will be removed in v2.0.0. Please use the function `pytorch_lightning.accelerators.find_usable_cuda_devices` instead.\n",
      "  rank_zero_deprecation(\n",
      "You are using a CUDA device ('NVIDIA GeForce RTX 4070 Ti') that has Tensor Cores. To properly utilize them, you should set `torch.set_float32_matmul_precision('medium' | 'high')` which will trade-off precision for performance. For more details, read https://pytorch.org/docs/stable/generated/torch.set_float32_matmul_precision.html#torch.set_float32_matmul_precision\n"
     ]
    },
    {
     "data": {
      "application/vnd.jupyter.widget-view+json": {
       "model_id": "275fc1e52d6147bf8579f5fe5277c345",
       "version_major": 2,
       "version_minor": 0
      },
      "text/plain": [
       "Predicting: 0it [00:00, ?it/s]"
      ]
     },
     "metadata": {},
     "output_type": "display_data"
    },
    {
     "name": "stderr",
     "output_type": "stream",
     "text": [
      "Global seed set to 123\n",
      "/home/fernando/anaconda3/lib/python3.10/site-packages/pytorch_lightning/trainer/connectors/accelerator_connector.py:589: LightningDeprecationWarning: The Trainer argument `auto_select_gpus` has been deprecated in v1.9.0 and will be removed in v2.0.0. Please use the function `pytorch_lightning.accelerators.find_usable_cuda_devices` instead.\n",
      "  rank_zero_deprecation(\n",
      "You are using a CUDA device ('NVIDIA GeForce RTX 4070 Ti') that has Tensor Cores. To properly utilize them, you should set `torch.set_float32_matmul_precision('medium' | 'high')` which will trade-off precision for performance. For more details, read https://pytorch.org/docs/stable/generated/torch.set_float32_matmul_precision.html#torch.set_float32_matmul_precision\n"
     ]
    },
    {
     "data": {
      "application/vnd.jupyter.widget-view+json": {
       "model_id": "bfa69821578d4c2bb87e71e94611220c",
       "version_major": 2,
       "version_minor": 0
      },
      "text/plain": [
       "Predicting: 0it [00:00, ?it/s]"
      ]
     },
     "metadata": {},
     "output_type": "display_data"
    },
    {
     "name": "stderr",
     "output_type": "stream",
     "text": [
      "Global seed set to 123\n",
      "/home/fernando/anaconda3/lib/python3.10/site-packages/pytorch_lightning/trainer/connectors/accelerator_connector.py:589: LightningDeprecationWarning: The Trainer argument `auto_select_gpus` has been deprecated in v1.9.0 and will be removed in v2.0.0. Please use the function `pytorch_lightning.accelerators.find_usable_cuda_devices` instead.\n",
      "  rank_zero_deprecation(\n",
      "You are using a CUDA device ('NVIDIA GeForce RTX 4070 Ti') that has Tensor Cores. To properly utilize them, you should set `torch.set_float32_matmul_precision('medium' | 'high')` which will trade-off precision for performance. For more details, read https://pytorch.org/docs/stable/generated/torch.set_float32_matmul_precision.html#torch.set_float32_matmul_precision\n"
     ]
    },
    {
     "data": {
      "application/vnd.jupyter.widget-view+json": {
       "model_id": "b8943c3dfc16465cb2ef3170c78ce21d",
       "version_major": 2,
       "version_minor": 0
      },
      "text/plain": [
       "Predicting: 0it [00:00, ?it/s]"
      ]
     },
     "metadata": {},
     "output_type": "display_data"
    },
    {
     "name": "stderr",
     "output_type": "stream",
     "text": [
      "Global seed set to 123\n",
      "/home/fernando/anaconda3/lib/python3.10/site-packages/pytorch_lightning/trainer/connectors/accelerator_connector.py:589: LightningDeprecationWarning: The Trainer argument `auto_select_gpus` has been deprecated in v1.9.0 and will be removed in v2.0.0. Please use the function `pytorch_lightning.accelerators.find_usable_cuda_devices` instead.\n",
      "  rank_zero_deprecation(\n",
      "You are using a CUDA device ('NVIDIA GeForce RTX 4070 Ti') that has Tensor Cores. To properly utilize them, you should set `torch.set_float32_matmul_precision('medium' | 'high')` which will trade-off precision for performance. For more details, read https://pytorch.org/docs/stable/generated/torch.set_float32_matmul_precision.html#torch.set_float32_matmul_precision\n"
     ]
    },
    {
     "data": {
      "application/vnd.jupyter.widget-view+json": {
       "model_id": "cdc41b749f0044c6a9da16fb0b41d0cf",
       "version_major": 2,
       "version_minor": 0
      },
      "text/plain": [
       "Predicting: 0it [00:00, ?it/s]"
      ]
     },
     "metadata": {},
     "output_type": "display_data"
    },
    {
     "name": "stdout",
     "output_type": "stream",
     "text": [
      "--- 1833.8026070594788 seconds ---\n"
     ]
    }
   ],
   "source": [
    "predictor_b2w = autogluon_function(X_train_all_b2w, X_test_all_b2w, 'overall_rating')"
   ]
  },
  {
   "cell_type": "code",
   "execution_count": 22,
   "id": "e5982312",
   "metadata": {},
   "outputs": [
    {
     "name": "stderr",
     "output_type": "stream",
     "text": [
      "Global seed set to 123\n",
      "/home/fernando/anaconda3/lib/python3.10/site-packages/pytorch_lightning/trainer/connectors/accelerator_connector.py:589: LightningDeprecationWarning: The Trainer argument `auto_select_gpus` has been deprecated in v1.9.0 and will be removed in v2.0.0. Please use the function `pytorch_lightning.accelerators.find_usable_cuda_devices` instead.\n",
      "  rank_zero_deprecation(\n",
      "You are using a CUDA device ('NVIDIA GeForce RTX 4070 Ti') that has Tensor Cores. To properly utilize them, you should set `torch.set_float32_matmul_precision('medium' | 'high')` which will trade-off precision for performance. For more details, read https://pytorch.org/docs/stable/generated/torch.set_float32_matmul_precision.html#torch.set_float32_matmul_precision\n"
     ]
    },
    {
     "data": {
      "application/vnd.jupyter.widget-view+json": {
       "model_id": "c60c34c5f3fb4ccca64271de9acda773",
       "version_major": 2,
       "version_minor": 0
      },
      "text/plain": [
       "Predicting: 0it [00:00, ?it/s]"
      ]
     },
     "metadata": {},
     "output_type": "display_data"
    },
    {
     "name": "stdout",
     "output_type": "stream",
     "text": [
      "Classification report: \n",
      "               precision    recall  f1-score   support\n",
      "\n",
      "         bad       0.87      0.84      0.86     12913\n",
      "        good       0.90      0.92      0.91     20181\n",
      "\n",
      "    accuracy                           0.89     33094\n",
      "   macro avg       0.89      0.88      0.88     33094\n",
      "weighted avg       0.89      0.89      0.89     33094\n",
      "\n"
     ]
    }
   ],
   "source": [
    "from sklearn.metrics import classification_report\n",
    "\n",
    "preds = predictor_b2w.predict(X_test_all_b2w)\n",
    "\n",
    "print(\"Classification report: \\n\", classification_report(X_test_all_b2w['overall_rating'], preds))"
   ]
  },
  {
   "cell_type": "markdown",
   "id": "2007c473",
   "metadata": {},
   "source": [
    "### Covid"
   ]
  },
  {
   "cell_type": "code",
   "execution_count": 15,
   "id": "ea6b840a",
   "metadata": {
    "scrolled": true
   },
   "outputs": [
    {
     "name": "stderr",
     "output_type": "stream",
     "text": [
      "Global seed set to 123\n",
      "/home/fernando/anaconda3/lib/python3.10/site-packages/pytorch_lightning/trainer/connectors/accelerator_connector.py:589: LightningDeprecationWarning: The Trainer argument `auto_select_gpus` has been deprecated in v1.9.0 and will be removed in v2.0.0. Please use the function `pytorch_lightning.accelerators.find_usable_cuda_devices` instead.\n",
      "  rank_zero_deprecation(\n",
      "Auto select gpus: [0]\n",
      "Using 16bit None Automatic Mixed Precision (AMP)\n",
      "GPU available: True (cuda), used: True\n",
      "TPU available: False, using: 0 TPU cores\n",
      "IPU available: False, using: 0 IPUs\n",
      "HPU available: False, using: 0 HPUs\n",
      "You are using a CUDA device ('NVIDIA GeForce RTX 4070 Ti') that has Tensor Cores. To properly utilize them, you should set `torch.set_float32_matmul_precision('medium' | 'high')` which will trade-off precision for performance. For more details, read https://pytorch.org/docs/stable/generated/torch.set_float32_matmul_precision.html#torch.set_float32_matmul_precision\n",
      "LOCAL_RANK: 0 - CUDA_VISIBLE_DEVICES: [0]\n",
      "\n",
      "  | Name              | Type                         | Params\n",
      "-------------------------------------------------------------------\n",
      "0 | model             | HFAutoModelForTextPrediction | 108 M \n",
      "1 | validation_metric | Accuracy                     | 0     \n",
      "2 | loss_func         | CrossEntropyLoss             | 0     \n",
      "-------------------------------------------------------------------\n",
      "108 M     Trainable params\n",
      "0         Non-trainable params\n",
      "108 M     Total params\n",
      "217.791   Total estimated model params size (MB)\n"
     ]
    },
    {
     "data": {
      "application/vnd.jupyter.widget-view+json": {
       "model_id": "",
       "version_major": 2,
       "version_minor": 0
      },
      "text/plain": [
       "Sanity Checking: 0it [00:00, ?it/s]"
      ]
     },
     "metadata": {},
     "output_type": "display_data"
    },
    {
     "data": {
      "application/vnd.jupyter.widget-view+json": {
       "model_id": "3ed4c6e37d3644ef94cb7e168dfa8a8a",
       "version_major": 2,
       "version_minor": 0
      },
      "text/plain": [
       "Training: 0it [00:00, ?it/s]"
      ]
     },
     "metadata": {},
     "output_type": "display_data"
    },
    {
     "data": {
      "application/vnd.jupyter.widget-view+json": {
       "model_id": "",
       "version_major": 2,
       "version_minor": 0
      },
      "text/plain": [
       "Validation: 0it [00:00, ?it/s]"
      ]
     },
     "metadata": {},
     "output_type": "display_data"
    },
    {
     "name": "stderr",
     "output_type": "stream",
     "text": [
      "Epoch 0, global step 119: 'val_accuracy' reached 0.47200 (best 0.47200), saving model to '/home/fernando/doutorado/text-automl/AutogluonModels/ag-20231123_143516/epoch=0-step=119.ckpt' as top 3\n",
      "/home/fernando/anaconda3/lib/python3.10/site-packages/pytorch_lightning/utilities/cloud_io.py:33: LightningDeprecationWarning: `pytorch_lightning.utilities.cloud_io.get_filesystem` has been deprecated in v1.8.0 and will be removed in v2.0.0. Please use `lightning_fabric.utilities.cloud_io.get_filesystem` instead.\n",
      "  rank_zero_deprecation(\n",
      "/home/fernando/anaconda3/lib/python3.10/site-packages/pytorch_lightning/utilities/cloud_io.py:25: LightningDeprecationWarning: `pytorch_lightning.utilities.cloud_io.atomic_save` has been deprecated in v1.8.0 and will be removed in v2.0.0. This function is internal but you can copy over its implementation.\n",
      "  rank_zero_deprecation(\n"
     ]
    },
    {
     "data": {
      "application/vnd.jupyter.widget-view+json": {
       "model_id": "",
       "version_major": 2,
       "version_minor": 0
      },
      "text/plain": [
       "Validation: 0it [00:00, ?it/s]"
      ]
     },
     "metadata": {},
     "output_type": "display_data"
    },
    {
     "name": "stderr",
     "output_type": "stream",
     "text": [
      "Epoch 0, global step 238: 'val_accuracy' reached 0.66640 (best 0.66640), saving model to '/home/fernando/doutorado/text-automl/AutogluonModels/ag-20231123_143516/epoch=0-step=238.ckpt' as top 3\n"
     ]
    },
    {
     "data": {
      "application/vnd.jupyter.widget-view+json": {
       "model_id": "",
       "version_major": 2,
       "version_minor": 0
      },
      "text/plain": [
       "Validation: 0it [00:00, ?it/s]"
      ]
     },
     "metadata": {},
     "output_type": "display_data"
    },
    {
     "name": "stderr",
     "output_type": "stream",
     "text": [
      "Epoch 1, global step 358: 'val_accuracy' reached 0.66280 (best 0.66640), saving model to '/home/fernando/doutorado/text-automl/AutogluonModels/ag-20231123_143516/epoch=1-step=358.ckpt' as top 3\n"
     ]
    },
    {
     "data": {
      "application/vnd.jupyter.widget-view+json": {
       "model_id": "",
       "version_major": 2,
       "version_minor": 0
      },
      "text/plain": [
       "Validation: 0it [00:00, ?it/s]"
      ]
     },
     "metadata": {},
     "output_type": "display_data"
    },
    {
     "name": "stderr",
     "output_type": "stream",
     "text": [
      "Epoch 1, global step 477: 'val_accuracy' reached 0.79360 (best 0.79360), saving model to '/home/fernando/doutorado/text-automl/AutogluonModels/ag-20231123_143516/epoch=1-step=477.ckpt' as top 3\n"
     ]
    },
    {
     "data": {
      "application/vnd.jupyter.widget-view+json": {
       "model_id": "",
       "version_major": 2,
       "version_minor": 0
      },
      "text/plain": [
       "Validation: 0it [00:00, ?it/s]"
      ]
     },
     "metadata": {},
     "output_type": "display_data"
    },
    {
     "name": "stderr",
     "output_type": "stream",
     "text": [
      "Epoch 2, global step 597: 'val_accuracy' reached 0.81440 (best 0.81440), saving model to '/home/fernando/doutorado/text-automl/AutogluonModels/ag-20231123_143516/epoch=2-step=597.ckpt' as top 3\n"
     ]
    },
    {
     "data": {
      "application/vnd.jupyter.widget-view+json": {
       "model_id": "",
       "version_major": 2,
       "version_minor": 0
      },
      "text/plain": [
       "Validation: 0it [00:00, ?it/s]"
      ]
     },
     "metadata": {},
     "output_type": "display_data"
    },
    {
     "name": "stderr",
     "output_type": "stream",
     "text": [
      "Epoch 2, global step 716: 'val_accuracy' reached 0.78640 (best 0.81440), saving model to '/home/fernando/doutorado/text-automl/AutogluonModels/ag-20231123_143516/epoch=2-step=716.ckpt' as top 3\n"
     ]
    },
    {
     "data": {
      "application/vnd.jupyter.widget-view+json": {
       "model_id": "",
       "version_major": 2,
       "version_minor": 0
      },
      "text/plain": [
       "Validation: 0it [00:00, ?it/s]"
      ]
     },
     "metadata": {},
     "output_type": "display_data"
    },
    {
     "name": "stderr",
     "output_type": "stream",
     "text": [
      "Epoch 3, global step 836: 'val_accuracy' reached 0.81640 (best 0.81640), saving model to '/home/fernando/doutorado/text-automl/AutogluonModels/ag-20231123_143516/epoch=3-step=836.ckpt' as top 3\n"
     ]
    },
    {
     "data": {
      "application/vnd.jupyter.widget-view+json": {
       "model_id": "",
       "version_major": 2,
       "version_minor": 0
      },
      "text/plain": [
       "Validation: 0it [00:00, ?it/s]"
      ]
     },
     "metadata": {},
     "output_type": "display_data"
    },
    {
     "name": "stderr",
     "output_type": "stream",
     "text": [
      "Epoch 3, global step 955: 'val_accuracy' reached 0.82840 (best 0.82840), saving model to '/home/fernando/doutorado/text-automl/AutogluonModels/ag-20231123_143516/epoch=3-step=955.ckpt' as top 3\n"
     ]
    },
    {
     "data": {
      "application/vnd.jupyter.widget-view+json": {
       "model_id": "",
       "version_major": 2,
       "version_minor": 0
      },
      "text/plain": [
       "Validation: 0it [00:00, ?it/s]"
      ]
     },
     "metadata": {},
     "output_type": "display_data"
    },
    {
     "name": "stderr",
     "output_type": "stream",
     "text": [
      "Epoch 4, global step 1075: 'val_accuracy' reached 0.83680 (best 0.83680), saving model to '/home/fernando/doutorado/text-automl/AutogluonModels/ag-20231123_143516/epoch=4-step=1075.ckpt' as top 3\n"
     ]
    },
    {
     "data": {
      "application/vnd.jupyter.widget-view+json": {
       "model_id": "",
       "version_major": 2,
       "version_minor": 0
      },
      "text/plain": [
       "Validation: 0it [00:00, ?it/s]"
      ]
     },
     "metadata": {},
     "output_type": "display_data"
    },
    {
     "name": "stderr",
     "output_type": "stream",
     "text": [
      "Epoch 4, global step 1194: 'val_accuracy' reached 0.82920 (best 0.83680), saving model to '/home/fernando/doutorado/text-automl/AutogluonModels/ag-20231123_143516/epoch=4-step=1194.ckpt' as top 3\n"
     ]
    },
    {
     "data": {
      "application/vnd.jupyter.widget-view+json": {
       "model_id": "",
       "version_major": 2,
       "version_minor": 0
      },
      "text/plain": [
       "Validation: 0it [00:00, ?it/s]"
      ]
     },
     "metadata": {},
     "output_type": "display_data"
    },
    {
     "name": "stderr",
     "output_type": "stream",
     "text": [
      "Epoch 5, global step 1314: 'val_accuracy' reached 0.85080 (best 0.85080), saving model to '/home/fernando/doutorado/text-automl/AutogluonModels/ag-20231123_143516/epoch=5-step=1314.ckpt' as top 3\n"
     ]
    },
    {
     "data": {
      "application/vnd.jupyter.widget-view+json": {
       "model_id": "",
       "version_major": 2,
       "version_minor": 0
      },
      "text/plain": [
       "Validation: 0it [00:00, ?it/s]"
      ]
     },
     "metadata": {},
     "output_type": "display_data"
    },
    {
     "name": "stderr",
     "output_type": "stream",
     "text": [
      "Epoch 5, global step 1433: 'val_accuracy' reached 0.83640 (best 0.85080), saving model to '/home/fernando/doutorado/text-automl/AutogluonModels/ag-20231123_143516/epoch=5-step=1433.ckpt' as top 3\n"
     ]
    },
    {
     "data": {
      "application/vnd.jupyter.widget-view+json": {
       "model_id": "",
       "version_major": 2,
       "version_minor": 0
      },
      "text/plain": [
       "Validation: 0it [00:00, ?it/s]"
      ]
     },
     "metadata": {},
     "output_type": "display_data"
    },
    {
     "name": "stderr",
     "output_type": "stream",
     "text": [
      "Epoch 6, global step 1553: 'val_accuracy' was not in top 3\n"
     ]
    },
    {
     "data": {
      "application/vnd.jupyter.widget-view+json": {
       "model_id": "",
       "version_major": 2,
       "version_minor": 0
      },
      "text/plain": [
       "Validation: 0it [00:00, ?it/s]"
      ]
     },
     "metadata": {},
     "output_type": "display_data"
    },
    {
     "name": "stderr",
     "output_type": "stream",
     "text": [
      "Epoch 6, global step 1672: 'val_accuracy' reached 0.83760 (best 0.85080), saving model to '/home/fernando/doutorado/text-automl/AutogluonModels/ag-20231123_143516/epoch=6-step=1672.ckpt' as top 3\n"
     ]
    },
    {
     "data": {
      "application/vnd.jupyter.widget-view+json": {
       "model_id": "",
       "version_major": 2,
       "version_minor": 0
      },
      "text/plain": [
       "Validation: 0it [00:00, ?it/s]"
      ]
     },
     "metadata": {},
     "output_type": "display_data"
    },
    {
     "name": "stderr",
     "output_type": "stream",
     "text": [
      "Epoch 7, global step 1792: 'val_accuracy' reached 0.84360 (best 0.85080), saving model to '/home/fernando/doutorado/text-automl/AutogluonModels/ag-20231123_143516/epoch=7-step=1792.ckpt' as top 3\n"
     ]
    },
    {
     "data": {
      "application/vnd.jupyter.widget-view+json": {
       "model_id": "",
       "version_major": 2,
       "version_minor": 0
      },
      "text/plain": [
       "Validation: 0it [00:00, ?it/s]"
      ]
     },
     "metadata": {},
     "output_type": "display_data"
    },
    {
     "name": "stderr",
     "output_type": "stream",
     "text": [
      "Epoch 7, global step 1911: 'val_accuracy' reached 0.85560 (best 0.85560), saving model to '/home/fernando/doutorado/text-automl/AutogluonModels/ag-20231123_143516/epoch=7-step=1911.ckpt' as top 3\n"
     ]
    },
    {
     "data": {
      "application/vnd.jupyter.widget-view+json": {
       "model_id": "",
       "version_major": 2,
       "version_minor": 0
      },
      "text/plain": [
       "Validation: 0it [00:00, ?it/s]"
      ]
     },
     "metadata": {},
     "output_type": "display_data"
    },
    {
     "name": "stderr",
     "output_type": "stream",
     "text": [
      "Epoch 8, global step 2031: 'val_accuracy' reached 0.84960 (best 0.85560), saving model to '/home/fernando/doutorado/text-automl/AutogluonModels/ag-20231123_143516/epoch=8-step=2031.ckpt' as top 3\n"
     ]
    },
    {
     "data": {
      "application/vnd.jupyter.widget-view+json": {
       "model_id": "",
       "version_major": 2,
       "version_minor": 0
      },
      "text/plain": [
       "Validation: 0it [00:00, ?it/s]"
      ]
     },
     "metadata": {},
     "output_type": "display_data"
    },
    {
     "name": "stderr",
     "output_type": "stream",
     "text": [
      "Epoch 8, global step 2150: 'val_accuracy' was not in top 3\n"
     ]
    },
    {
     "data": {
      "application/vnd.jupyter.widget-view+json": {
       "model_id": "",
       "version_major": 2,
       "version_minor": 0
      },
      "text/plain": [
       "Validation: 0it [00:00, ?it/s]"
      ]
     },
     "metadata": {},
     "output_type": "display_data"
    },
    {
     "name": "stderr",
     "output_type": "stream",
     "text": [
      "Epoch 9, global step 2270: 'val_accuracy' was not in top 3\n"
     ]
    },
    {
     "data": {
      "application/vnd.jupyter.widget-view+json": {
       "model_id": "",
       "version_major": 2,
       "version_minor": 0
      },
      "text/plain": [
       "Validation: 0it [00:00, ?it/s]"
      ]
     },
     "metadata": {},
     "output_type": "display_data"
    },
    {
     "name": "stderr",
     "output_type": "stream",
     "text": [
      "Epoch 9, global step 2389: 'val_accuracy' was not in top 3\n",
      "`Trainer.fit` stopped: `max_epochs=10` reached.\n",
      "Global seed set to 123\n",
      "/home/fernando/anaconda3/lib/python3.10/site-packages/pytorch_lightning/trainer/connectors/accelerator_connector.py:589: LightningDeprecationWarning: The Trainer argument `auto_select_gpus` has been deprecated in v1.9.0 and will be removed in v2.0.0. Please use the function `pytorch_lightning.accelerators.find_usable_cuda_devices` instead.\n",
      "  rank_zero_deprecation(\n",
      "You are using a CUDA device ('NVIDIA GeForce RTX 4070 Ti') that has Tensor Cores. To properly utilize them, you should set `torch.set_float32_matmul_precision('medium' | 'high')` which will trade-off precision for performance. For more details, read https://pytorch.org/docs/stable/generated/torch.set_float32_matmul_precision.html#torch.set_float32_matmul_precision\n"
     ]
    },
    {
     "data": {
      "application/vnd.jupyter.widget-view+json": {
       "model_id": "535f23ab30694c729dedc14b1f9f93d4",
       "version_major": 2,
       "version_minor": 0
      },
      "text/plain": [
       "Predicting: 0it [00:00, ?it/s]"
      ]
     },
     "metadata": {},
     "output_type": "display_data"
    },
    {
     "name": "stderr",
     "output_type": "stream",
     "text": [
      "Global seed set to 123\n",
      "/home/fernando/anaconda3/lib/python3.10/site-packages/pytorch_lightning/trainer/connectors/accelerator_connector.py:589: LightningDeprecationWarning: The Trainer argument `auto_select_gpus` has been deprecated in v1.9.0 and will be removed in v2.0.0. Please use the function `pytorch_lightning.accelerators.find_usable_cuda_devices` instead.\n",
      "  rank_zero_deprecation(\n",
      "You are using a CUDA device ('NVIDIA GeForce RTX 4070 Ti') that has Tensor Cores. To properly utilize them, you should set `torch.set_float32_matmul_precision('medium' | 'high')` which will trade-off precision for performance. For more details, read https://pytorch.org/docs/stable/generated/torch.set_float32_matmul_precision.html#torch.set_float32_matmul_precision\n"
     ]
    },
    {
     "data": {
      "application/vnd.jupyter.widget-view+json": {
       "model_id": "52d42487448c425ba6427414f65c766f",
       "version_major": 2,
       "version_minor": 0
      },
      "text/plain": [
       "Predicting: 0it [00:00, ?it/s]"
      ]
     },
     "metadata": {},
     "output_type": "display_data"
    },
    {
     "name": "stderr",
     "output_type": "stream",
     "text": [
      "Global seed set to 123\n",
      "/home/fernando/anaconda3/lib/python3.10/site-packages/pytorch_lightning/trainer/connectors/accelerator_connector.py:589: LightningDeprecationWarning: The Trainer argument `auto_select_gpus` has been deprecated in v1.9.0 and will be removed in v2.0.0. Please use the function `pytorch_lightning.accelerators.find_usable_cuda_devices` instead.\n",
      "  rank_zero_deprecation(\n",
      "You are using a CUDA device ('NVIDIA GeForce RTX 4070 Ti') that has Tensor Cores. To properly utilize them, you should set `torch.set_float32_matmul_precision('medium' | 'high')` which will trade-off precision for performance. For more details, read https://pytorch.org/docs/stable/generated/torch.set_float32_matmul_precision.html#torch.set_float32_matmul_precision\n"
     ]
    },
    {
     "data": {
      "application/vnd.jupyter.widget-view+json": {
       "model_id": "7b2c83cc91b0429ca5c9bca805396588",
       "version_major": 2,
       "version_minor": 0
      },
      "text/plain": [
       "Predicting: 0it [00:00, ?it/s]"
      ]
     },
     "metadata": {},
     "output_type": "display_data"
    },
    {
     "name": "stderr",
     "output_type": "stream",
     "text": [
      "Global seed set to 123\n",
      "/home/fernando/anaconda3/lib/python3.10/site-packages/pytorch_lightning/trainer/connectors/accelerator_connector.py:589: LightningDeprecationWarning: The Trainer argument `auto_select_gpus` has been deprecated in v1.9.0 and will be removed in v2.0.0. Please use the function `pytorch_lightning.accelerators.find_usable_cuda_devices` instead.\n",
      "  rank_zero_deprecation(\n",
      "You are using a CUDA device ('NVIDIA GeForce RTX 4070 Ti') that has Tensor Cores. To properly utilize them, you should set `torch.set_float32_matmul_precision('medium' | 'high')` which will trade-off precision for performance. For more details, read https://pytorch.org/docs/stable/generated/torch.set_float32_matmul_precision.html#torch.set_float32_matmul_precision\n"
     ]
    },
    {
     "data": {
      "application/vnd.jupyter.widget-view+json": {
       "model_id": "693912acdaa348e0b2830c59aeb8a535",
       "version_major": 2,
       "version_minor": 0
      },
      "text/plain": [
       "Predicting: 0it [00:00, ?it/s]"
      ]
     },
     "metadata": {},
     "output_type": "display_data"
    },
    {
     "name": "stdout",
     "output_type": "stream",
     "text": [
      "--- 1218.6095526218414 seconds ---\n"
     ]
    }
   ],
   "source": [
    "predictor_covid = autogluon_function(X_train_all_covid, X_test_all_covid, 'Sentiment')"
   ]
  },
  {
   "cell_type": "code",
   "execution_count": 25,
   "id": "b623a36b",
   "metadata": {},
   "outputs": [
    {
     "name": "stderr",
     "output_type": "stream",
     "text": [
      "Global seed set to 123\n",
      "/home/fernando/anaconda3/lib/python3.10/site-packages/pytorch_lightning/trainer/connectors/accelerator_connector.py:589: LightningDeprecationWarning: The Trainer argument `auto_select_gpus` has been deprecated in v1.9.0 and will be removed in v2.0.0. Please use the function `pytorch_lightning.accelerators.find_usable_cuda_devices` instead.\n",
      "  rank_zero_deprecation(\n",
      "You are using a CUDA device ('NVIDIA GeForce RTX 4070 Ti') that has Tensor Cores. To properly utilize them, you should set `torch.set_float32_matmul_precision('medium' | 'high')` which will trade-off precision for performance. For more details, read https://pytorch.org/docs/stable/generated/torch.set_float32_matmul_precision.html#torch.set_float32_matmul_precision\n"
     ]
    },
    {
     "data": {
      "application/vnd.jupyter.widget-view+json": {
       "model_id": "c30f9e193c994cf182c4de4d4866ecb4",
       "version_major": 2,
       "version_minor": 0
      },
      "text/plain": [
       "Predicting: 0it [00:00, ?it/s]"
      ]
     },
     "metadata": {},
     "output_type": "display_data"
    },
    {
     "name": "stdout",
     "output_type": "stream",
     "text": [
      "Classification report: \n",
      "                     precision    recall  f1-score   support\n",
      "\n",
      "Extremely Negative       0.83      0.90      0.86      1479\n",
      "Extremely Positive       0.86      0.91      0.88      1778\n",
      "          Negative       0.85      0.81      0.83      2678\n",
      "           Neutral       0.85      0.87      0.86      2043\n",
      "          Positive       0.87      0.81      0.84      3049\n",
      "\n",
      "          accuracy                           0.85     11027\n",
      "         macro avg       0.85      0.86      0.86     11027\n",
      "      weighted avg       0.85      0.85      0.85     11027\n",
      "\n"
     ]
    }
   ],
   "source": [
    "from sklearn.metrics import classification_report\n",
    "\n",
    "preds = predictor_covid.predict(X_test_all_covid)\n",
    "\n",
    "print(\"Classification report: \\n\", classification_report(X_test_all_covid['Sentiment'], preds))"
   ]
  },
  {
   "cell_type": "markdown",
   "id": "a8358c9e",
   "metadata": {},
   "source": [
    "### Papers"
   ]
  },
  {
   "cell_type": "code",
   "execution_count": 16,
   "id": "55f0c104",
   "metadata": {},
   "outputs": [
    {
     "name": "stderr",
     "output_type": "stream",
     "text": [
      "Global seed set to 123\n",
      "/home/fernando/anaconda3/lib/python3.10/site-packages/torchmetrics/utilities/prints.py:36: UserWarning: Metric `AUROC` will save all targets and predictions in buffer. For large datasets this may lead to large memory footprint.\n",
      "  warnings.warn(*args, **kwargs)\n",
      "/home/fernando/anaconda3/lib/python3.10/site-packages/pytorch_lightning/trainer/connectors/accelerator_connector.py:589: LightningDeprecationWarning: The Trainer argument `auto_select_gpus` has been deprecated in v1.9.0 and will be removed in v2.0.0. Please use the function `pytorch_lightning.accelerators.find_usable_cuda_devices` instead.\n",
      "  rank_zero_deprecation(\n",
      "Auto select gpus: [0]\n",
      "Using 16bit None Automatic Mixed Precision (AMP)\n",
      "GPU available: True (cuda), used: True\n",
      "TPU available: False, using: 0 TPU cores\n",
      "IPU available: False, using: 0 IPUs\n",
      "HPU available: False, using: 0 HPUs\n",
      "You are using a CUDA device ('NVIDIA GeForce RTX 4070 Ti') that has Tensor Cores. To properly utilize them, you should set `torch.set_float32_matmul_precision('medium' | 'high')` which will trade-off precision for performance. For more details, read https://pytorch.org/docs/stable/generated/torch.set_float32_matmul_precision.html#torch.set_float32_matmul_precision\n",
      "LOCAL_RANK: 0 - CUDA_VISIBLE_DEVICES: [0]\n",
      "\n",
      "  | Name              | Type                         | Params\n",
      "-------------------------------------------------------------------\n",
      "0 | model             | HFAutoModelForTextPrediction | 108 M \n",
      "1 | validation_metric | AUROC                        | 0     \n",
      "2 | loss_func         | CrossEntropyLoss             | 0     \n",
      "-------------------------------------------------------------------\n",
      "108 M     Trainable params\n",
      "0         Non-trainable params\n",
      "108 M     Total params\n",
      "217.786   Total estimated model params size (MB)\n"
     ]
    },
    {
     "data": {
      "application/vnd.jupyter.widget-view+json": {
       "model_id": "",
       "version_major": 2,
       "version_minor": 0
      },
      "text/plain": [
       "Sanity Checking: 0it [00:00, ?it/s]"
      ]
     },
     "metadata": {},
     "output_type": "display_data"
    },
    {
     "data": {
      "application/vnd.jupyter.widget-view+json": {
       "model_id": "a75a42328c8841e78421e0deb406af62",
       "version_major": 2,
       "version_minor": 0
      },
      "text/plain": [
       "Training: 0it [00:00, ?it/s]"
      ]
     },
     "metadata": {},
     "output_type": "display_data"
    },
    {
     "data": {
      "application/vnd.jupyter.widget-view+json": {
       "model_id": "",
       "version_major": 2,
       "version_minor": 0
      },
      "text/plain": [
       "Validation: 0it [00:00, ?it/s]"
      ]
     },
     "metadata": {},
     "output_type": "display_data"
    },
    {
     "name": "stderr",
     "output_type": "stream",
     "text": [
      "Epoch 0, global step 55: 'val_roc_auc' reached 0.91102 (best 0.91102), saving model to '/home/fernando/doutorado/text-automl/AutogluonModels/ag-20231123_145534/epoch=0-step=55.ckpt' as top 3\n",
      "/home/fernando/anaconda3/lib/python3.10/site-packages/pytorch_lightning/utilities/cloud_io.py:33: LightningDeprecationWarning: `pytorch_lightning.utilities.cloud_io.get_filesystem` has been deprecated in v1.8.0 and will be removed in v2.0.0. Please use `lightning_fabric.utilities.cloud_io.get_filesystem` instead.\n",
      "  rank_zero_deprecation(\n",
      "/home/fernando/anaconda3/lib/python3.10/site-packages/pytorch_lightning/utilities/cloud_io.py:25: LightningDeprecationWarning: `pytorch_lightning.utilities.cloud_io.atomic_save` has been deprecated in v1.8.0 and will be removed in v2.0.0. This function is internal but you can copy over its implementation.\n",
      "  rank_zero_deprecation(\n"
     ]
    },
    {
     "data": {
      "application/vnd.jupyter.widget-view+json": {
       "model_id": "",
       "version_major": 2,
       "version_minor": 0
      },
      "text/plain": [
       "Validation: 0it [00:00, ?it/s]"
      ]
     },
     "metadata": {},
     "output_type": "display_data"
    },
    {
     "name": "stderr",
     "output_type": "stream",
     "text": [
      "Epoch 0, global step 111: 'val_roc_auc' reached 0.93349 (best 0.93349), saving model to '/home/fernando/doutorado/text-automl/AutogluonModels/ag-20231123_145534/epoch=0-step=111.ckpt' as top 3\n"
     ]
    },
    {
     "data": {
      "application/vnd.jupyter.widget-view+json": {
       "model_id": "",
       "version_major": 2,
       "version_minor": 0
      },
      "text/plain": [
       "Validation: 0it [00:00, ?it/s]"
      ]
     },
     "metadata": {},
     "output_type": "display_data"
    },
    {
     "name": "stderr",
     "output_type": "stream",
     "text": [
      "Epoch 1, global step 166: 'val_roc_auc' reached 0.93907 (best 0.93907), saving model to '/home/fernando/doutorado/text-automl/AutogluonModels/ag-20231123_145534/epoch=1-step=166.ckpt' as top 3\n"
     ]
    },
    {
     "data": {
      "application/vnd.jupyter.widget-view+json": {
       "model_id": "",
       "version_major": 2,
       "version_minor": 0
      },
      "text/plain": [
       "Validation: 0it [00:00, ?it/s]"
      ]
     },
     "metadata": {},
     "output_type": "display_data"
    },
    {
     "name": "stderr",
     "output_type": "stream",
     "text": [
      "Epoch 1, global step 222: 'val_roc_auc' reached 0.94098 (best 0.94098), saving model to '/home/fernando/doutorado/text-automl/AutogluonModels/ag-20231123_145534/epoch=1-step=222.ckpt' as top 3\n"
     ]
    },
    {
     "data": {
      "application/vnd.jupyter.widget-view+json": {
       "model_id": "",
       "version_major": 2,
       "version_minor": 0
      },
      "text/plain": [
       "Validation: 0it [00:00, ?it/s]"
      ]
     },
     "metadata": {},
     "output_type": "display_data"
    },
    {
     "name": "stderr",
     "output_type": "stream",
     "text": [
      "Epoch 2, global step 277: 'val_roc_auc' reached 0.94244 (best 0.94244), saving model to '/home/fernando/doutorado/text-automl/AutogluonModels/ag-20231123_145534/epoch=2-step=277.ckpt' as top 3\n"
     ]
    },
    {
     "data": {
      "application/vnd.jupyter.widget-view+json": {
       "model_id": "",
       "version_major": 2,
       "version_minor": 0
      },
      "text/plain": [
       "Validation: 0it [00:00, ?it/s]"
      ]
     },
     "metadata": {},
     "output_type": "display_data"
    },
    {
     "name": "stderr",
     "output_type": "stream",
     "text": [
      "Epoch 2, global step 333: 'val_roc_auc' reached 0.94214 (best 0.94244), saving model to '/home/fernando/doutorado/text-automl/AutogluonModels/ag-20231123_145534/epoch=2-step=333.ckpt' as top 3\n"
     ]
    },
    {
     "data": {
      "application/vnd.jupyter.widget-view+json": {
       "model_id": "",
       "version_major": 2,
       "version_minor": 0
      },
      "text/plain": [
       "Validation: 0it [00:00, ?it/s]"
      ]
     },
     "metadata": {},
     "output_type": "display_data"
    },
    {
     "name": "stderr",
     "output_type": "stream",
     "text": [
      "Epoch 3, global step 388: 'val_roc_auc' was not in top 3\n"
     ]
    },
    {
     "data": {
      "application/vnd.jupyter.widget-view+json": {
       "model_id": "",
       "version_major": 2,
       "version_minor": 0
      },
      "text/plain": [
       "Validation: 0it [00:00, ?it/s]"
      ]
     },
     "metadata": {},
     "output_type": "display_data"
    },
    {
     "name": "stderr",
     "output_type": "stream",
     "text": [
      "Epoch 3, global step 444: 'val_roc_auc' was not in top 3\n"
     ]
    },
    {
     "data": {
      "application/vnd.jupyter.widget-view+json": {
       "model_id": "",
       "version_major": 2,
       "version_minor": 0
      },
      "text/plain": [
       "Validation: 0it [00:00, ?it/s]"
      ]
     },
     "metadata": {},
     "output_type": "display_data"
    },
    {
     "name": "stderr",
     "output_type": "stream",
     "text": [
      "Epoch 4, global step 499: 'val_roc_auc' was not in top 3\n"
     ]
    },
    {
     "data": {
      "application/vnd.jupyter.widget-view+json": {
       "model_id": "",
       "version_major": 2,
       "version_minor": 0
      },
      "text/plain": [
       "Validation: 0it [00:00, ?it/s]"
      ]
     },
     "metadata": {},
     "output_type": "display_data"
    },
    {
     "name": "stderr",
     "output_type": "stream",
     "text": [
      "Epoch 4, global step 555: 'val_roc_auc' was not in top 3\n"
     ]
    },
    {
     "data": {
      "application/vnd.jupyter.widget-view+json": {
       "model_id": "",
       "version_major": 2,
       "version_minor": 0
      },
      "text/plain": [
       "Validation: 0it [00:00, ?it/s]"
      ]
     },
     "metadata": {},
     "output_type": "display_data"
    },
    {
     "name": "stderr",
     "output_type": "stream",
     "text": [
      "Epoch 5, global step 610: 'val_roc_auc' was not in top 3\n"
     ]
    },
    {
     "data": {
      "application/vnd.jupyter.widget-view+json": {
       "model_id": "",
       "version_major": 2,
       "version_minor": 0
      },
      "text/plain": [
       "Validation: 0it [00:00, ?it/s]"
      ]
     },
     "metadata": {},
     "output_type": "display_data"
    },
    {
     "name": "stderr",
     "output_type": "stream",
     "text": [
      "Epoch 5, global step 666: 'val_roc_auc' was not in top 3\n"
     ]
    },
    {
     "data": {
      "application/vnd.jupyter.widget-view+json": {
       "model_id": "",
       "version_major": 2,
       "version_minor": 0
      },
      "text/plain": [
       "Validation: 0it [00:00, ?it/s]"
      ]
     },
     "metadata": {},
     "output_type": "display_data"
    },
    {
     "name": "stderr",
     "output_type": "stream",
     "text": [
      "Epoch 6, global step 721: 'val_roc_auc' was not in top 3\n"
     ]
    },
    {
     "data": {
      "application/vnd.jupyter.widget-view+json": {
       "model_id": "",
       "version_major": 2,
       "version_minor": 0
      },
      "text/plain": [
       "Validation: 0it [00:00, ?it/s]"
      ]
     },
     "metadata": {},
     "output_type": "display_data"
    },
    {
     "name": "stderr",
     "output_type": "stream",
     "text": [
      "Epoch 6, global step 777: 'val_roc_auc' was not in top 3\n"
     ]
    },
    {
     "data": {
      "application/vnd.jupyter.widget-view+json": {
       "model_id": "",
       "version_major": 2,
       "version_minor": 0
      },
      "text/plain": [
       "Validation: 0it [00:00, ?it/s]"
      ]
     },
     "metadata": {},
     "output_type": "display_data"
    },
    {
     "name": "stderr",
     "output_type": "stream",
     "text": [
      "Epoch 7, global step 832: 'val_roc_auc' was not in top 3\n",
      "Global seed set to 123\n",
      "/home/fernando/anaconda3/lib/python3.10/site-packages/pytorch_lightning/trainer/connectors/accelerator_connector.py:589: LightningDeprecationWarning: The Trainer argument `auto_select_gpus` has been deprecated in v1.9.0 and will be removed in v2.0.0. Please use the function `pytorch_lightning.accelerators.find_usable_cuda_devices` instead.\n",
      "  rank_zero_deprecation(\n",
      "You are using a CUDA device ('NVIDIA GeForce RTX 4070 Ti') that has Tensor Cores. To properly utilize them, you should set `torch.set_float32_matmul_precision('medium' | 'high')` which will trade-off precision for performance. For more details, read https://pytorch.org/docs/stable/generated/torch.set_float32_matmul_precision.html#torch.set_float32_matmul_precision\n"
     ]
    },
    {
     "data": {
      "application/vnd.jupyter.widget-view+json": {
       "model_id": "6becc2bd24ca421da51416694de6535a",
       "version_major": 2,
       "version_minor": 0
      },
      "text/plain": [
       "Predicting: 0it [00:00, ?it/s]"
      ]
     },
     "metadata": {},
     "output_type": "display_data"
    },
    {
     "name": "stderr",
     "output_type": "stream",
     "text": [
      "Global seed set to 123\n",
      "/home/fernando/anaconda3/lib/python3.10/site-packages/pytorch_lightning/trainer/connectors/accelerator_connector.py:589: LightningDeprecationWarning: The Trainer argument `auto_select_gpus` has been deprecated in v1.9.0 and will be removed in v2.0.0. Please use the function `pytorch_lightning.accelerators.find_usable_cuda_devices` instead.\n",
      "  rank_zero_deprecation(\n",
      "You are using a CUDA device ('NVIDIA GeForce RTX 4070 Ti') that has Tensor Cores. To properly utilize them, you should set `torch.set_float32_matmul_precision('medium' | 'high')` which will trade-off precision for performance. For more details, read https://pytorch.org/docs/stable/generated/torch.set_float32_matmul_precision.html#torch.set_float32_matmul_precision\n"
     ]
    },
    {
     "data": {
      "application/vnd.jupyter.widget-view+json": {
       "model_id": "d047fc6afb654d218d8e5c09feca8b20",
       "version_major": 2,
       "version_minor": 0
      },
      "text/plain": [
       "Predicting: 0it [00:00, ?it/s]"
      ]
     },
     "metadata": {},
     "output_type": "display_data"
    },
    {
     "name": "stderr",
     "output_type": "stream",
     "text": [
      "Global seed set to 123\n",
      "/home/fernando/anaconda3/lib/python3.10/site-packages/pytorch_lightning/trainer/connectors/accelerator_connector.py:589: LightningDeprecationWarning: The Trainer argument `auto_select_gpus` has been deprecated in v1.9.0 and will be removed in v2.0.0. Please use the function `pytorch_lightning.accelerators.find_usable_cuda_devices` instead.\n",
      "  rank_zero_deprecation(\n",
      "You are using a CUDA device ('NVIDIA GeForce RTX 4070 Ti') that has Tensor Cores. To properly utilize them, you should set `torch.set_float32_matmul_precision('medium' | 'high')` which will trade-off precision for performance. For more details, read https://pytorch.org/docs/stable/generated/torch.set_float32_matmul_precision.html#torch.set_float32_matmul_precision\n"
     ]
    },
    {
     "data": {
      "application/vnd.jupyter.widget-view+json": {
       "model_id": "57f5bc4da21d43dfa8073ae803360da2",
       "version_major": 2,
       "version_minor": 0
      },
      "text/plain": [
       "Predicting: 0it [00:00, ?it/s]"
      ]
     },
     "metadata": {},
     "output_type": "display_data"
    },
    {
     "name": "stderr",
     "output_type": "stream",
     "text": [
      "Global seed set to 123\n",
      "/home/fernando/anaconda3/lib/python3.10/site-packages/pytorch_lightning/trainer/connectors/accelerator_connector.py:589: LightningDeprecationWarning: The Trainer argument `auto_select_gpus` has been deprecated in v1.9.0 and will be removed in v2.0.0. Please use the function `pytorch_lightning.accelerators.find_usable_cuda_devices` instead.\n",
      "  rank_zero_deprecation(\n",
      "You are using a CUDA device ('NVIDIA GeForce RTX 4070 Ti') that has Tensor Cores. To properly utilize them, you should set `torch.set_float32_matmul_precision('medium' | 'high')` which will trade-off precision for performance. For more details, read https://pytorch.org/docs/stable/generated/torch.set_float32_matmul_precision.html#torch.set_float32_matmul_precision\n"
     ]
    },
    {
     "data": {
      "application/vnd.jupyter.widget-view+json": {
       "model_id": "60cf7c8dc36c4fc3b4bea3c2a65ce6a9",
       "version_major": 2,
       "version_minor": 0
      },
      "text/plain": [
       "Predicting: 0it [00:00, ?it/s]"
      ]
     },
     "metadata": {},
     "output_type": "display_data"
    },
    {
     "name": "stdout",
     "output_type": "stream",
     "text": [
      "--- 1090.971378326416 seconds ---\n"
     ]
    }
   ],
   "source": [
    "predictor_papers = autogluon_function(X_train_all_papers, X_test_all_papers, 'Computer Science')"
   ]
  },
  {
   "cell_type": "code",
   "execution_count": 26,
   "id": "e8347f26",
   "metadata": {
    "scrolled": true
   },
   "outputs": [
    {
     "name": "stderr",
     "output_type": "stream",
     "text": [
      "Global seed set to 123\n",
      "/home/fernando/anaconda3/lib/python3.10/site-packages/pytorch_lightning/trainer/connectors/accelerator_connector.py:589: LightningDeprecationWarning: The Trainer argument `auto_select_gpus` has been deprecated in v1.9.0 and will be removed in v2.0.0. Please use the function `pytorch_lightning.accelerators.find_usable_cuda_devices` instead.\n",
      "  rank_zero_deprecation(\n",
      "You are using a CUDA device ('NVIDIA GeForce RTX 4070 Ti') that has Tensor Cores. To properly utilize them, you should set `torch.set_float32_matmul_precision('medium' | 'high')` which will trade-off precision for performance. For more details, read https://pytorch.org/docs/stable/generated/torch.set_float32_matmul_precision.html#torch.set_float32_matmul_precision\n"
     ]
    },
    {
     "data": {
      "application/vnd.jupyter.widget-view+json": {
       "model_id": "8663ee5da69348a4812129684a8c0ffa",
       "version_major": 2,
       "version_minor": 0
      },
      "text/plain": [
       "Predicting: 0it [00:00, ?it/s]"
      ]
     },
     "metadata": {},
     "output_type": "display_data"
    },
    {
     "name": "stdout",
     "output_type": "stream",
     "text": [
      "Classification report: \n",
      "               precision    recall  f1-score   support\n",
      "\n",
      "           0       0.92      0.86      0.89      3127\n",
      "           1       0.81      0.89      0.85      2116\n",
      "\n",
      "    accuracy                           0.87      5243\n",
      "   macro avg       0.87      0.88      0.87      5243\n",
      "weighted avg       0.88      0.87      0.87      5243\n",
      "\n"
     ]
    }
   ],
   "source": [
    "from sklearn.metrics import classification_report\n",
    "\n",
    "preds = predictor_papers.predict(X_test_all_papers)\n",
    "\n",
    "print(\"Classification report: \\n\", classification_report(X_test_all_papers['Computer Science'], preds))"
   ]
  }
 ],
 "metadata": {
  "kernelspec": {
   "display_name": "Python 3 (ipykernel)",
   "language": "python",
   "name": "python3"
  },
  "language_info": {
   "codemirror_mode": {
    "name": "ipython",
    "version": 3
   },
   "file_extension": ".py",
   "mimetype": "text/x-python",
   "name": "python",
   "nbconvert_exporter": "python",
   "pygments_lexer": "ipython3",
   "version": "3.10.9"
  }
 },
 "nbformat": 4,
 "nbformat_minor": 5
}
